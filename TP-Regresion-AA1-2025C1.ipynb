{
 "cells": [
  {
   "cell_type": "markdown",
   "metadata": {
    "id": "vXZJ5BLwvkcm"
   },
   "source": [
    "# Contexto"
   ]
  },
  {
   "cell_type": "markdown",
   "metadata": {
    "id": "fDymOUdIdsXq"
   },
   "source": [
    "El proyecto trata sobre **Uber Inc.**, la compañía de taxis más grande del mundo. En este trabajo, nuestro objetivo es **predecir la tarifa de futuros viajes**.  \n",
    "\n",
    "Uber brinda servicio a millones de clientes cada día, por lo que gestionar adecuadamente sus datos es clave para desarrollar nuevas estrategias de negocio y obtener mejores resultados.  \n",
    "\n",
    "### Variables del conjunto de datos  \n",
    "\n",
    "**Variables explicativas:**  \n",
    "- **key**: identificador único de cada viaje.  \n",
    "- **pickup_datetime**: fecha y hora en que se inició el viaje.  \n",
    "- **passenger_count**: cantidad de pasajeros en el vehículo (dato ingresado por el conductor).  \n",
    "- **pickup_longitude**: longitud del punto de inicio del viaje.  \n",
    "- **pickup_latitude**: latitud del punto de inicio del viaje.  \n",
    "- **dropoff_longitude**: longitud del punto de destino.  \n",
    "- **dropoff_latitude**: latitud del punto de destino.  \n",
    "\n",
    "**Variable objetivo (target):**  \n",
    "- **fare_amount**: costo del viaje en dólares.  "
   ]
  },
  {
   "cell_type": "markdown",
   "metadata": {
    "id": "eSRJQCQ1rFRb"
   },
   "source": [
    "# Librerias"
   ]
  },
  {
   "cell_type": "code",
   "execution_count": 104,
   "metadata": {
    "id": "M0BEicdrdsXd"
   },
   "outputs": [],
   "source": [
    "import pandas as pd\n",
    "import numpy as np\n",
    "import holidays\n",
    "\n",
    "import seaborn as sns\n",
    "import matplotlib.pyplot as plt\n",
    "\n",
    "import plotly.express as px\n",
    "import plotly.graph_objects as go\n",
    "import plotly.figure_factory as ff\n",
    "\n",
    "from sklearn.model_selection import train_test_split\n",
    "from sklearn.preprocessing import StandardScaler, OneHotEncoder\n",
    "from sklearn.pipeline import Pipeline, make_pipeline\n",
    "from sklearn.linear_model import LinearRegression, Lasso, Ridge, ElasticNet, LassoCV, RidgeCV, ElasticNetCV\n",
    "from sklearn.metrics import mean_absolute_error, mean_squared_error, r2_score\n",
    "from sklearn.impute import SimpleImputer\n",
    "from sklearn.compose import ColumnTransformer\n",
    "from sklearn.compose import make_column_selector as selector\n",
    "from sklearn import metrics\n",
    "\n",
    "from geopy.distance import geodesic\n",
    "\n",
    "import warnings\n",
    "warnings.filterwarnings(\"ignore\")"
   ]
  },
  {
   "cell_type": "markdown",
   "metadata": {
    "id": "kVudZRhurJM-"
   },
   "source": [
    "# Carga del Dataset"
   ]
  },
  {
   "cell_type": "code",
   "execution_count": 105,
   "metadata": {
    "id": "_AHinFVhdsXj"
   },
   "outputs": [],
   "source": [
    "## Carga datos de dataset en dataframe\n",
    "file_path= 'https://raw.githubusercontent.com/guillericci/AA1-TUIA-2025C1-Aranda-Cicoria-Ricci/refs/heads/main/uber_fares.csv'\n",
    "\n",
    "df = pd.read_csv(file_path)"
   ]
  },
  {
   "cell_type": "markdown",
   "metadata": {
    "id": "cxFNEAifrNgN"
   },
   "source": [
    "# Analisis Exploratorio"
   ]
  },
  {
   "cell_type": "markdown",
   "metadata": {
    "id": "UKOkK7Exebd8"
   },
   "source": [
    "Procedemos a obtener información general del dataset. Variables involucradas, cantidad de registros no nulos y tipos de datos de las mismas."
   ]
  },
  {
   "cell_type": "code",
   "execution_count": null,
   "metadata": {
    "colab": {
     "base_uri": "https://localhost:8080/"
    },
    "executionInfo": {
     "elapsed": 634,
     "status": "ok",
     "timestamp": 1744670679443,
     "user": {
      "displayName": "Ignacio Cicoria",
      "userId": "11746815679159819108"
     },
     "user_tz": 180
    },
    "id": "z8r4xtojdsXx",
    "outputId": "813f8c14-9600-4a71-ca1d-f84935e4ca0c"
   },
   "outputs": [],
   "source": [
    "df.info()"
   ]
  },
  {
   "cell_type": "markdown",
   "metadata": {
    "id": "y-lcY7MxkRm6"
   },
   "source": [
    "De la información extraída podemos observar que falta el registro de una ubicación de destino. Tendremos que analizar cómo considerarla. Lo haremos más adelante, luego de analizar más variables."
   ]
  },
  {
   "cell_type": "markdown",
   "metadata": {
    "id": "B1tsyiqRktcd"
   },
   "source": [
    "Procedemos a obtener algunos de los datos de nuestro dataset para visualizar su estructura."
   ]
  },
  {
   "cell_type": "code",
   "execution_count": null,
   "metadata": {
    "colab": {
     "base_uri": "https://localhost:8080/",
     "height": 313
    },
    "executionInfo": {
     "elapsed": 9,
     "status": "ok",
     "timestamp": 1744670679455,
     "user": {
      "displayName": "Ignacio Cicoria",
      "userId": "11746815679159819108"
     },
     "user_tz": 180
    },
    "id": "qUKuDR29dsXm",
    "outputId": "f7a01e1a-7b1f-400b-f24b-4c4ad1c06b17"
   },
   "outputs": [],
   "source": [
    "df.head()"
   ]
  },
  {
   "cell_type": "markdown",
   "metadata": {
    "id": "txz9Mox8lx-J"
   },
   "source": [
    "Ahora, visualizaremos de forma general la principales medidas descriptivas de las variables cuantitativas a considerar."
   ]
  },
  {
   "cell_type": "code",
   "execution_count": null,
   "metadata": {
    "colab": {
     "base_uri": "https://localhost:8080/",
     "height": 320
    },
    "executionInfo": {
     "elapsed": 44,
     "status": "ok",
     "timestamp": 1744670679501,
     "user": {
      "displayName": "Ignacio Cicoria",
      "userId": "11746815679159819108"
     },
     "user_tz": 180
    },
    "id": "dleFj5lAlxdl",
    "outputId": "59348b11-5180-4ddc-ca6a-cdd3f61a56b0"
   },
   "outputs": [],
   "source": [
    "df.describe()"
   ]
  },
  {
   "cell_type": "markdown",
   "metadata": {
    "id": "-ZPIG-sbqnT0"
   },
   "source": [
    "### Limpieza"
   ]
  },
  {
   "cell_type": "markdown",
   "metadata": {
    "id": "LWYT_YWRexyk"
   },
   "source": [
    "De la visualización de las medidas descriptivas generales vemos que hay valores inconsistentes en nuentra variable target (menores a cero). Tenemos que eliminar los registros referentes a estos valores.\n"
   ]
  },
  {
   "cell_type": "code",
   "execution_count": 109,
   "metadata": {
    "id": "kUyUjSzdhlkc"
   },
   "outputs": [],
   "source": [
    "df = df[df['fare_amount'] > 0]"
   ]
  },
  {
   "cell_type": "markdown",
   "metadata": {
    "id": "sXvjLNDz3PXl"
   },
   "source": [
    "Analizamos los valores de la variable relativa a la cantidad de pasajeros."
   ]
  },
  {
   "cell_type": "code",
   "execution_count": null,
   "metadata": {
    "colab": {
     "base_uri": "https://localhost:8080/"
    },
    "executionInfo": {
     "elapsed": 16,
     "status": "ok",
     "timestamp": 1744670679525,
     "user": {
      "displayName": "Ignacio Cicoria",
      "userId": "11746815679159819108"
     },
     "user_tz": 180
    },
    "id": "X3paD6rm3PXl",
    "outputId": "92e1edaa-2a3d-4b69-9c71-cb3b1bb89a70"
   },
   "outputs": [],
   "source": [
    "print(df['passenger_count'].value_counts())"
   ]
  },
  {
   "cell_type": "markdown",
   "metadata": {
    "id": "HFKYYVBc_Qod"
   },
   "source": [
    "Tomaremos el criterio de que un viaje puede tener hasta 10 pasajeros. Notamos que hay un solo valor atípico para esta consideración. Debido a la magnitud del dataset, decidimos eliminar este registro."
   ]
  },
  {
   "cell_type": "code",
   "execution_count": 111,
   "metadata": {
    "id": "PsxnxbnF6cIu"
   },
   "outputs": [],
   "source": [
    "df = df[df['passenger_count'] < 10]"
   ]
  },
  {
   "cell_type": "markdown",
   "metadata": {
    "id": "FgnJOUzjmVez"
   },
   "source": [
    "Nos centraremos ahora en las variables referidas a la ubicación de los viajes, analizaremos la distribución de las mismas y su variabilidad"
   ]
  },
  {
   "cell_type": "code",
   "execution_count": null,
   "metadata": {
    "colab": {
     "base_uri": "https://localhost:8080/",
     "height": 430
    },
    "executionInfo": {
     "elapsed": 8465,
     "status": "ok",
     "timestamp": 1744670687994,
     "user": {
      "displayName": "Ignacio Cicoria",
      "userId": "11746815679159819108"
     },
     "user_tz": 180
    },
    "id": "lqhzpO_IArav",
    "outputId": "4a008ebc-4845-4cca-888a-d4b695657342"
   },
   "outputs": [],
   "source": [
    "ubicacion = ['pickup_longitude', 'pickup_latitude', 'dropoff_longitude', 'dropoff_latitude']\n",
    "sns.boxplot(data=df[ubicacion])\n",
    "plt.show()"
   ]
  },
  {
   "cell_type": "markdown",
   "metadata": {
    "id": "uXvlnaTqmyyE"
   },
   "source": [
    "A partir del gráfico presentado, notamos la presencia de ciertos valores extremos que podrían distorsionar los datos de nuestro modelo."
   ]
  },
  {
   "cell_type": "markdown",
   "metadata": {
    "id": "oivPRYdlniIE"
   },
   "source": [
    "Procedemos también a graficar los pares de valores tanto de salida cómo de llegada para visualizar su comportamiento."
   ]
  },
  {
   "cell_type": "code",
   "execution_count": null,
   "metadata": {
    "colab": {
     "base_uri": "https://localhost:8080/",
     "height": 542
    },
    "executionInfo": {
     "elapsed": 2109,
     "status": "ok",
     "timestamp": 1744670690099,
     "user": {
      "displayName": "Ignacio Cicoria",
      "userId": "11746815679159819108"
     },
     "user_tz": 180
    },
    "id": "W48iisiqMU0j",
    "outputId": "525907dc-80da-4435-c648-e6bc745e3b4d"
   },
   "outputs": [],
   "source": [
    "fig, ax = plt.subplots(figsize=(8, 6))\n",
    "plt.scatter(df['pickup_longitude'], df['pickup_latitude'], color='blue', s=2, alpha=0.5, label='Inicio')\n",
    "plt.scatter(df['dropoff_longitude'], df['dropoff_latitude'], color='red', s=2, alpha=0.5, label='Fin')\n",
    "plt.xlabel(\"Longitud\")\n",
    "plt.ylabel(\"Latitud\")\n",
    "plt.legend()\n",
    "plt.show()"
   ]
  },
  {
   "cell_type": "markdown",
   "metadata": {
    "id": "E6ptaajxn4RX"
   },
   "source": [
    "Si bien esta representación plana no es del todo precisa por la naturaleza de las componentes geográficas, podemos visualizar también de este modo, la concentración de puntos en un área y algunos puntos bastante alejados."
   ]
  },
  {
   "cell_type": "markdown",
   "metadata": {
    "id": "9p2w9hzFoKl6"
   },
   "source": [
    "Sabemos que el dataset cuenta con registros de la ciudad de Nueva York, por lo cuál tomaremos la decisión de incluir los puntos de viajes que estén dentro de los rangos de valores para esta ciudad. De esta manera descartamos los valores extremos, asumiendo que ***nuestro modelo sólo tendrá validez dentro del rango considerado***."
   ]
  },
  {
   "cell_type": "code",
   "execution_count": 114,
   "metadata": {
    "id": "y8WVVp763PXo"
   },
   "outputs": [],
   "source": [
    "df_limpio = df[(df['pickup_longitude'] <= -73.7004 ) & (df['pickup_longitude'] >= -74.2591)]\n",
    "df_limpio = df_limpio[(df_limpio['pickup_latitude'] <= 40.9176 ) & (df_limpio['pickup_latitude'] >= 40.4774)]\n",
    "df_limpio = df_limpio[(df_limpio['dropoff_longitude'] <= -73.7004 ) & (df_limpio['dropoff_longitude'] >= -74.2591)]\n",
    "df_limpio = df_limpio[(df_limpio['dropoff_latitude'] <= 40.9176 ) & (df_limpio['dropoff_latitude'] >= 40.4774)]"
   ]
  },
  {
   "cell_type": "markdown",
   "metadata": {
    "id": "fIkXwaH73PXo"
   },
   "source": [
    "Volvemos a graficar los puntos resultantes."
   ]
  },
  {
   "cell_type": "code",
   "execution_count": null,
   "metadata": {
    "colab": {
     "base_uri": "https://localhost:8080/",
     "height": 542
    },
    "executionInfo": {
     "elapsed": 2728,
     "status": "ok",
     "timestamp": 1744670692839,
     "user": {
      "displayName": "Ignacio Cicoria",
      "userId": "11746815679159819108"
     },
     "user_tz": 180
    },
    "id": "IyPKdP5H3PXp",
    "outputId": "a02989e5-41c6-4a73-d240-646217ef34a2"
   },
   "outputs": [],
   "source": [
    "fig, ax = plt.subplots(figsize=(8, 6))\n",
    "plt.scatter(df_limpio['pickup_longitude'], df_limpio['pickup_latitude'], color='blue', s=2, alpha=0.5, label='Inicio')\n",
    "plt.scatter(df_limpio['dropoff_longitude'], df_limpio['dropoff_latitude'], color='red', s=2, alpha=0.5, label='Fin')\n",
    "plt.xlabel(\"Longitud\")\n",
    "plt.ylabel(\"Latitud\")\n",
    "plt.legend()\n",
    "plt.show()"
   ]
  },
  {
   "cell_type": "markdown",
   "metadata": {
    "id": "xecE0FSN3PXp"
   },
   "source": [
    "Y para una visualización más precisa los plasmamos en el mapa de la ciudad."
   ]
  },
  {
   "cell_type": "code",
   "execution_count": null,
   "metadata": {
    "colab": {
     "base_uri": "https://localhost:8080/",
     "height": 192
    },
    "executionInfo": {
     "elapsed": 19,
     "status": "ok",
     "timestamp": 1744670692869,
     "user": {
      "displayName": "Ignacio Cicoria",
      "userId": "11746815679159819108"
     },
     "user_tz": 180
    },
    "id": "rmGoU-Oc3PXp",
    "outputId": "9f476fa8-9cbf-4f89-8379-2814431553e0"
   },
   "outputs": [],
   "source": [
    "import folium\n",
    "\n",
    "# Crear el mapa centrado en Nueva York\n",
    "m = folium.Map(location=[40.7128, -74.0060], zoom_start=12)\n",
    "\n",
    "# Filtrar filas con valores nulos o coordenadas inválidas\n",
    "df_valid = df_limpio[\n",
    "    df_limpio[['pickup_latitude', 'pickup_longitude', 'dropoff_latitude', 'dropoff_longitude']].notnull().all(axis=1)\n",
    "]\n",
    "\n",
    "# Filtrar coordenadas dentro del rango válido\n",
    "df_valid = df_valid[\n",
    "    (df_valid['pickup_latitude'].between(-90, 90)) &\n",
    "    (df_valid['pickup_longitude'].between(-180, 180)) &\n",
    "    (df_valid['dropoff_latitude'].between(-90, 90)) &\n",
    "    (df_valid['dropoff_longitude'].between(-180, 180))\n",
    "]\n",
    "\n",
    "# Agregar puntos de recogida y destino en un solo bucle\n",
    "for _, row in df_valid.iterrows():\n",
    "    # Punto de recogida (azul)\n",
    "    folium.CircleMarker(\n",
    "        location=[row['pickup_latitude'], row['pickup_longitude']],\n",
    "        radius=2,\n",
    "        color='blue',\n",
    "        fill=True,\n",
    "        fill_color='blue',\n",
    "        fill_opacity=0.5\n",
    "    ).add_to(m)\n",
    "\n",
    "    # Punto de destino (rojo)\n",
    "    folium.CircleMarker(\n",
    "        location=[row['dropoff_latitude'], row['dropoff_longitude']],\n",
    "        radius=2,\n",
    "        color='red',\n",
    "        fill=True,\n",
    "        fill_color='red',\n",
    "        fill_opacity=0.5\n",
    "    ).add_to(m)\n",
    "\n",
    "# Mostrar el mapa\n",
    "m"
   ]
  },
  {
   "cell_type": "markdown",
   "metadata": {
    "id": "hirLQMizAJ2W"
   },
   "source": [
    "A continuacion agregaremos algunas variables al dataset. Tomamos la desición de hacerlo antes de la división de datos teniendo en cuenta que las mismas no modificarán el entrenamiento del modelo, ya que no se basan en valores de la variable target ni en medidas calculadas sobre el dataset completo."
   ]
  },
  {
   "cell_type": "markdown",
   "metadata": {
    "id": "jSNEwzYA3PXw"
   },
   "source": [
    "Creamos la variable \"distancia\" calculada a partir de los datos de latitud y longitud de partida y llegada."
   ]
  },
  {
   "cell_type": "code",
   "execution_count": 117,
   "metadata": {
    "id": "oErHwrMqmmGi"
   },
   "outputs": [],
   "source": [
    "df_limpio['distancia']=df_limpio.apply(lambda x: geodesic((x['pickup_latitude'], x['pickup_longitude']), (x['dropoff_latitude'], x['dropoff_longitude'])).kilometers, axis=1)"
   ]
  },
  {
   "cell_type": "markdown",
   "metadata": {
    "id": "jCRR01Z0BPYt"
   },
   "source": [
    "Vamos a analizar si el costo varía según la cantidad de pasajeros."
   ]
  },
  {
   "cell_type": "code",
   "execution_count": null,
   "metadata": {
    "colab": {
     "base_uri": "https://localhost:8080/",
     "height": 614
    },
    "executionInfo": {
     "elapsed": 4651,
     "status": "ok",
     "timestamp": 1744679792990,
     "user": {
      "displayName": "Ignacio Cicoria",
      "userId": "11746815679159819108"
     },
     "user_tz": 180
    },
    "id": "UJC6uMimBNHB",
    "outputId": "3cad505d-daea-46ef-be06-95ec836bf2c7"
   },
   "outputs": [],
   "source": [
    "# Costo promedio por cantidad de pasajeros\n",
    "plt.figure(figsize=(8,5))\n",
    "sns.barplot(data=df, x='passenger_count', y='fare_amount', estimator='mean', palette='Set2')\n",
    "plt.title('Costo promedio según tipo de servicio')\n",
    "plt.ylabel('Fare promedio (USD)')\n",
    "plt.xlabel('Cantidad de pasajeros')\n",
    "plt.xticks(rotation=15)\n",
    "plt.grid(True, axis='y')\n",
    "plt.tight_layout()\n",
    "plt.show()"
   ]
  },
  {
   "cell_type": "markdown",
   "metadata": {
    "id": "HYNQratFJ0w5"
   },
   "source": [
    "En base a la información del gráfico decidimos segmentar la variable \"cantidad de pasajeros\" para considerar 3 tipos de categorías según el tipo de viaje realizado y en función del vehículo a cargo."
   ]
  },
  {
   "cell_type": "code",
   "execution_count": 119,
   "metadata": {
    "id": "Az_lRBTOAy-R"
   },
   "outputs": [],
   "source": [
    "df_limpio['encomienda'] = (df_limpio['passenger_count'] == 0).astype(int)\n",
    "df_limpio['auto/moto'] = df_limpio['passenger_count'].between(1, 4).astype(int)\n",
    "# Eliminamos 'passenger_count'\n",
    "df_limpio=df_limpio.drop('passenger_count', axis=1)"
   ]
  },
  {
   "cell_type": "markdown",
   "metadata": {
    "id": "A2MmGdzKHg3x"
   },
   "source": [
    "Separamos la variable 'pickup_datetime' referida a la fecha y hora de inicio del viaje en sus componentes y además creamos nuevas variables para determinar si el viaje corresponde a un día de semana, fin de semana o feriado."
   ]
  },
  {
   "cell_type": "code",
   "execution_count": 120,
   "metadata": {
    "id": "GC9GS_DHIzzj"
   },
   "outputs": [],
   "source": [
    "df_limpio['pickup_datetime'] = pd.to_datetime(df_limpio['pickup_datetime'], utc=True)\n",
    "\n",
    "#Extraemos de 'pickup_datetime' el día del mes, el día de la semana, el mes y el año.\n",
    "df_limpio['hora'] = df_limpio['pickup_datetime'].dt.hour\n",
    "df_limpio['dia_semana'] = df_limpio['pickup_datetime'].dt.day_name()\n",
    "df_limpio['mes'] = df_limpio['pickup_datetime'].dt.month\n",
    "df_limpio['anio'] = df_limpio['pickup_datetime'].dt.year\n",
    "df_limpio['fecha'] = df_limpio['pickup_datetime'].dt.date\n",
    "df_limpio['numero_dia'] = df_limpio['pickup_datetime'].dt.day\n",
    "\n",
    "#Creamos las variables referidas al \"tipo de día\"\n",
    "us_holidays = holidays.US()\n",
    "df_limpio['es_feriado'] = df_limpio['fecha'].apply(lambda x: x in us_holidays)\n"
   ]
  },
  {
   "cell_type": "markdown",
   "metadata": {
    "id": "aHUn6jgZ7LzZ"
   },
   "source": [
    "A continuación, presentamos visualizaciones que buscan reflejar la relación entre el costo promedio del viaje y distintas variables temporales (hora, día de la semana, mes, año) y espaciales (distancia). Estos gráficos permiten identificar patrones y tendencias que orienten a la selección de variables para el modelo predictivo.\n",
    "Si bien utilizamos el dataset completo (es decir tambien estamos graficando datos de test que no sería ideal), lo hacemos con el objetivo de visualización para entender en primera medida el comportamiento general. No afectamos de esta manera ningún calculo de medidas o parametros futuros que puedan distorsionar el modelo."
   ]
  },
  {
   "cell_type": "code",
   "execution_count": null,
   "metadata": {
    "colab": {
     "base_uri": "https://localhost:8080/",
     "height": 411
    },
    "executionInfo": {
     "elapsed": 1971,
     "status": "ok",
     "timestamp": 1744670728363,
     "user": {
      "displayName": "Ignacio Cicoria",
      "userId": "11746815679159819108"
     },
     "user_tz": 180
    },
    "id": "T-SO402qlRyC",
    "outputId": "52347c27-128a-4d0e-f5bc-e72043b5f4a3"
   },
   "outputs": [],
   "source": [
    "# Crear una figura con 6 subplots (en 2 filas de 3 columnas)\n",
    "fig, axes = plt.subplots(2, 3, figsize=(20, 10))\n",
    "axes = axes.flatten()  # Para acceder a los ejes como una lista simple\n",
    "\n",
    "# 1. Scatterplot: Distancia vs Costo\n",
    "sns.scatterplot(data=df_limpio, x='distancia', y='fare_amount', ax=axes[0])\n",
    "axes[0].set_title('Distancia vs Costo del viaje')\n",
    "axes[0].set_xlabel('Distancia (km)')\n",
    "axes[0].set_ylabel('Fare Amount ($)')\n",
    "\n",
    "# 2. Costo promedio según hora\n",
    "df_limpio.groupby('hora')['fare_amount'].mean().plot(kind='bar', ax=axes[1], color='skyblue')\n",
    "axes[1].set_title('Hora vs Costo promedio')\n",
    "axes[1].set_xlabel('Hora')\n",
    "axes[1].set_ylabel('Fare Amount ($)')\n",
    "\n",
    "# 3. Costo promedio según día de la semana\n",
    "orden_dias = ['Monday', 'Tuesday', 'Wednesday', 'Thursday', 'Friday', 'Saturday', 'Sunday']\n",
    "df_limpio.groupby('dia_semana')['fare_amount'].mean().reindex(orden_dias).plot(kind='bar', ax=axes[2], color='lightgreen')\n",
    "axes[2].set_title('Día de la semana vs Costo promedio')\n",
    "axes[2].set_xlabel('Día')\n",
    "axes[2].set_ylabel('Fare Amount ($)')\n",
    "\n",
    "# 4. Costo promedio según mes\n",
    "df_limpio.groupby('mes')['fare_amount'].mean().plot(kind='bar', ax=axes[3], color='coral')\n",
    "axes[3].set_title('Mes vs Costo promedio')\n",
    "axes[3].set_xlabel('Mes')\n",
    "axes[3].set_ylabel('Fare Amount ($)')\n",
    "\n",
    "# 5. Costo promedio según número del día del mes\n",
    "df_limpio.groupby('numero_dia')['fare_amount'].mean().plot(kind='bar', ax=axes[4], color='purple')\n",
    "axes[4].set_title('Número de día vs Costo promedio')\n",
    "axes[4].set_xlabel('Día del mes')\n",
    "axes[4].set_ylabel('Fare Amount ($)')\n",
    "\n",
    "# 6. Costo promedio según año\n",
    "df_limpio.groupby('anio')['fare_amount'].mean().plot(kind='bar', ax=axes[5], color='orange')\n",
    "axes[5].set_title('Año vs Costo promedio')\n",
    "axes[5].set_xlabel('Año')\n",
    "axes[5].set_ylabel('Fare Amount ($)')\n",
    "\n",
    "# Ajuste final\n",
    "plt.tight_layout()\n",
    "plt.show()\n"
   ]
  },
  {
   "cell_type": "markdown",
   "metadata": {
    "id": "wUyO5Jp57-XT"
   },
   "source": [
    "El siguiente gráfico representa el costo promedio según la hora del día y el día de la semana para observar si varía el comportamiento cuando es fin de semana respecto a los días de semana.\n"
   ]
  },
  {
   "cell_type": "code",
   "execution_count": null,
   "metadata": {
    "colab": {
     "base_uri": "https://localhost:8080/",
     "height": 410
    },
    "executionInfo": {
     "elapsed": 1777,
     "status": "ok",
     "timestamp": 1744670730145,
     "user": {
      "displayName": "Ignacio Cicoria",
      "userId": "11746815679159819108"
     },
     "user_tz": 180
    },
    "id": "cDLo3j3e76ft",
    "outputId": "315e4cad-502f-4736-a389-73387cbb8913"
   },
   "outputs": [],
   "source": [
    "# Orden correcto de los días\n",
    "orden_dias = ['Monday', 'Tuesday', 'Wednesday', 'Thursday', 'Friday', 'Saturday', 'Sunday']\n",
    "\n",
    "# Crear figura con 7 subplots (2 filas, 4 columnas para que entren bien)\n",
    "fig, axes = plt.subplots(2, 4, figsize=(20, 10))\n",
    "axes = axes.flatten()\n",
    "\n",
    "# Filtrar y graficar por cada día\n",
    "for i, dia in enumerate(orden_dias):\n",
    "    data_dia = df_limpio[df_limpio['dia_semana'] == dia]\n",
    "    promedio_hora = data_dia.groupby('hora')['fare_amount'].mean()\n",
    "    promedio_hora.plot(kind='bar', ax=axes[i], color='skyblue')\n",
    "    axes[i].set_title(f'{dia}')\n",
    "    axes[i].set_xlabel('Hora del día')\n",
    "    axes[i].set_ylabel('Costo promedio ($)')\n",
    "    axes[i].set_xticks(range(0, 24))\n",
    "    axes[i].set_xticklabels(range(0, 24), rotation=0)\n",
    "\n",
    "# Eliminar el subplot vacío (posición 7 en índice, el 8vo gráfico)\n",
    "fig.delaxes(axes[7])\n",
    "\n",
    "plt.suptitle('Costo promedio por hora para cada día de la semana', fontsize=16)\n",
    "plt.tight_layout(rect=[0, 0, 1, 0.95])\n",
    "plt.show()\n"
   ]
  },
  {
   "cell_type": "markdown",
   "metadata": {
    "id": "3YKzdQ_98Qan"
   },
   "source": [
    "El siguiente gráfico compara el costo promedio por hora entre días de semana y fines de semana, con el objetivo de evaluar si esta agrupación captura diferencias significativas que justifiquen la creación de una nueva variable categórica es_finde."
   ]
  },
  {
   "cell_type": "code",
   "execution_count": null,
   "metadata": {
    "colab": {
     "base_uri": "https://localhost:8080/",
     "height": 490
    },
    "executionInfo": {
     "elapsed": 487,
     "status": "ok",
     "timestamp": 1744670730635,
     "user": {
      "displayName": "Ignacio Cicoria",
      "userId": "11746815679159819108"
     },
     "user_tz": 180
    },
    "id": "N5ni0eWe8uV-",
    "outputId": "db09fc5b-35ee-452e-fa91-c16e51f25ce2"
   },
   "outputs": [],
   "source": [
    "#creamos la varible es_finde\n",
    "df_limpio['es_finde'] = df_limpio['pickup_datetime'].dt.dayofweek >= 5  # Sábado (5) y domingo (6)\n",
    "\n",
    "# Agrupamos por es_finde y hora, calculando el costo promedio\n",
    "promedio_finde = df_limpio.groupby(['es_finde', 'hora'])['fare_amount'].mean().reset_index()\n",
    "\n",
    "# Cambiamos True/False por texto más claro\n",
    "promedio_finde['es_finde'] = promedio_finde['es_finde'].map({True: 'Fin de semana', False: 'Día de semana'})\n",
    "\n",
    "# Gráfico de líneas\n",
    "plt.figure(figsize=(10, 6))\n",
    "sns.lineplot(data=promedio_finde, x='hora', y='fare_amount', hue='es_finde', marker='o')\n",
    "plt.title('Costo promedio por hora: Día de semana vs Fin de semana')\n",
    "plt.xlabel('Hora del día')\n",
    "plt.ylabel('Costo promedio ($)')\n",
    "plt.xticks(range(0, 24))\n",
    "plt.grid(True)\n",
    "plt.legend(title='Tipo de día')\n",
    "plt.tight_layout()\n",
    "plt.show()\n"
   ]
  },
  {
   "cell_type": "markdown",
   "metadata": {
    "id": "0zRNomohCYuH"
   },
   "source": [
    "## Selección variables predictoras"
   ]
  },
  {
   "cell_type": "markdown",
   "metadata": {
    "id": "TqQtja5F9A8X"
   },
   "source": [
    "Para la construcción del modelo de regresión se seleccionaron variables que presentan relación con el costo del viaje. Se incluyó la distancia del viaje (en km), dado que muestra una fuerte correlación con el costo, así como variables temporales como la hora del día, si es fin de semana, si es feriado y el mes del año, las cuales reflejan patrones horarios, semanales y estacionales que influyen en el precio. Se descartó la variable \"Año\", ya que no resulta útil en escenarios de predicción futura y podría comprometer la capacidad de generalización del modelo."
   ]
  },
  {
   "cell_type": "code",
   "execution_count": 124,
   "metadata": {
    "id": "rbJ1tzt587FY"
   },
   "outputs": [],
   "source": [
    "# Codificación cíclica para hora\n",
    "df_limpio['hora_sin'] = np.sin(2 * np.pi * df_limpio['hora'] / 24)\n",
    "df_limpio['hora_cos'] = np.cos(2 * np.pi * df_limpio['hora'] / 24)\n",
    "\n",
    "# Codificación cíclica para mes\n",
    "df_limpio['mes_sin'] = np.sin(2 * np.pi * df_limpio['mes'] / 12)\n",
    "df_limpio['mes_cos'] = np.cos(2 * np.pi * df_limpio['mes'] / 12)\n",
    "\n",
    "\n",
    "# Eliminacion de variables originales:\n",
    "df_limpio.drop(['key','date','pickup_datetime','dropoff_longitude','dropoff_latitude','hora', 'dia_semana', 'numero_dia', 'mes', 'anio', 'fecha'], axis=1, inplace=True)"
   ]
  },
  {
   "cell_type": "code",
   "execution_count": null,
   "metadata": {
    "colab": {
     "base_uri": "https://localhost:8080/",
     "height": 313
    },
    "executionInfo": {
     "elapsed": 18,
     "status": "ok",
     "timestamp": 1744670730669,
     "user": {
      "displayName": "Ignacio Cicoria",
      "userId": "11746815679159819108"
     },
     "user_tz": 180
    },
    "id": "ACCkij2DDxVi",
    "outputId": "a6b77e2b-88fc-4990-8dc0-5e1ab19de055"
   },
   "outputs": [],
   "source": [
    "df_limpio.head()"
   ]
  },
  {
   "cell_type": "markdown",
   "metadata": {
    "id": "kThfuHBTHb-s"
   },
   "source": [
    "# División de datos"
   ]
  },
  {
   "cell_type": "markdown",
   "metadata": {
    "id": "-JbOLe8SCql9"
   },
   "source": [
    "Procedemos a dividir el dataset en conjunto de entrenamiento y prueba."
   ]
  },
  {
   "cell_type": "code",
   "execution_count": 126,
   "metadata": {
    "id": "LbtPjqbxdsX0"
   },
   "outputs": [],
   "source": [
    "X_train, X_test, y_train, y_test = train_test_split(df_limpio.drop(columns='fare_amount'), df_limpio['fare_amount'], test_size=0.2, random_state=42)"
   ]
  },
  {
   "cell_type": "markdown",
   "metadata": {
    "id": "HJmYgoHy3PYB"
   },
   "source": [
    "Realizamos un Correlograma para obvservar la correlación de las variables explicativas que consideraremos para le entrenamiento."
   ]
  },
  {
   "cell_type": "code",
   "execution_count": null,
   "metadata": {
    "colab": {
     "base_uri": "https://localhost:8080/",
     "height": 718
    },
    "executionInfo": {
     "elapsed": 584,
     "status": "ok",
     "timestamp": 1744670731323,
     "user": {
      "displayName": "Ignacio Cicoria",
      "userId": "11746815679159819108"
     },
     "user_tz": 180
    },
    "id": "EvWbMFnm3PYC",
    "outputId": "c569ead3-3f44-4de4-e728-118934515bbb"
   },
   "outputs": [],
   "source": [
    "matriz = X_train[['distancia','pickup_latitude','pickup_longitude','encomienda', 'auto/moto', 'es_finde', 'es_feriado', 'hora_sin','hora_cos', 'mes_sin', 'mes_cos']].corr()\n",
    "plt.figure(figsize=(12, 10))\n",
    "sns.heatmap(matriz, annot=True, fmt='.2f', cmap='coolwarm', annot_kws={\"size\": 10})\n",
    "plt.xticks(rotation=45, ha='right')\n",
    "plt.yticks(rotation=0)\n",
    "plt.title('Matriz de correlación entre variables explicativas', fontsize=14)\n",
    "plt.tight_layout()\n",
    "plt.show()"
   ]
  },
  {
   "cell_type": "markdown",
   "metadata": {
    "id": "ETLMvXNsHyV8"
   },
   "source": [
    "# Preprocesamiento"
   ]
  },
  {
   "cell_type": "markdown",
   "metadata": {
    "id": "S1QJNirjDMhw"
   },
   "source": [
    "## Imputación"
   ]
  },
  {
   "cell_type": "markdown",
   "metadata": {
    "id": "OZaAl9sD3PYC"
   },
   "source": [
    "Analizaremos nuevamente el comportamiento de la distancia en relación a la variable target."
   ]
  },
  {
   "cell_type": "code",
   "execution_count": null,
   "metadata": {
    "colab": {
     "base_uri": "https://localhost:8080/",
     "height": 472
    },
    "executionInfo": {
     "elapsed": 517,
     "status": "ok",
     "timestamp": 1744670731857,
     "user": {
      "displayName": "Ignacio Cicoria",
      "userId": "11746815679159819108"
     },
     "user_tz": 180
    },
    "id": "_jV-Qazxmlzb",
    "outputId": "e17d7b44-369a-4c14-ef9c-596a24d2ba82"
   },
   "outputs": [],
   "source": [
    "ax = sns.scatterplot(x=X_train['distancia'], y=y_train, alpha=0.5)\n",
    "ax.set_title(\"Costo vs distancia\")\n",
    "ax.set_xlabel(\"Distancia (km)\")\n",
    "ax.set_ylabel(\"Costo ($)\")\n",
    "plt.show()"
   ]
  },
  {
   "cell_type": "markdown",
   "metadata": {
    "id": "5dRubGXNv0Iu"
   },
   "source": [
    "Vemos gran cantidad de registros con distancia cero y costo del viaje distinto de cero. Analizaremos cuántos son los registros que existen con esta condición."
   ]
  },
  {
   "cell_type": "code",
   "execution_count": null,
   "metadata": {
    "colab": {
     "base_uri": "https://localhost:8080/"
    },
    "executionInfo": {
     "elapsed": 51,
     "status": "ok",
     "timestamp": 1744670731918,
     "user": {
      "displayName": "Ignacio Cicoria",
      "userId": "11746815679159819108"
     },
     "user_tz": 180
    },
    "id": "FNIOrKkX3PYD",
    "outputId": "43fc3140-c06f-468e-b40a-b1b8eb9d76cc"
   },
   "outputs": [],
   "source": [
    "condicion = (X_train['distancia'] == 0) & (y_train.loc[X_train.index] > 0)\n",
    "inconsistentes = X_train[condicion]\n",
    "print(f'Registros con distancia 0 y fare_amount > 0: {len(inconsistentes)}')"
   ]
  },
  {
   "cell_type": "markdown",
   "metadata": {
    "id": "PyZ26CSy3PYD"
   },
   "source": [
    "Debemos imputar estas distancias eligiendo alguna estrategia. Para esto, analizaremos la distribucion de la variable distancia."
   ]
  },
  {
   "cell_type": "code",
   "execution_count": null,
   "metadata": {
    "colab": {
     "base_uri": "https://localhost:8080/",
     "height": 472
    },
    "executionInfo": {
     "elapsed": 959,
     "status": "ok",
     "timestamp": 1744670732873,
     "user": {
      "displayName": "Ignacio Cicoria",
      "userId": "11746815679159819108"
     },
     "user_tz": 180
    },
    "id": "eUuWWmAuv3dC",
    "outputId": "f87e28e9-a82c-42d3-efa7-c67a014639b4"
   },
   "outputs": [],
   "source": [
    "sns.histplot(X_train[X_train['distancia'] > 0]['distancia'], bins=50, kde=True)\n",
    "plt.title(\"Distribución de distancias (> 0)\")\n",
    "plt.show()"
   ]
  },
  {
   "cell_type": "markdown",
   "metadata": {
    "id": "JuEr3-oL3PYE"
   },
   "source": [
    "Vemos que la distancia tiene una distribución sesgada a la derecha por lo que podríamos pensar en la mediana para imputar de mejor manera los datos."
   ]
  },
  {
   "cell_type": "markdown",
   "metadata": {
    "id": "hL4ypHdKxGAp"
   },
   "source": [
    "Imputamos por la **mediana**. Probamos con otros métodos cómo imputar usando mediana por grupos de costo similar, pero tardaban mucho tiempo en relación a la precisión de salida que necesitabamos."
   ]
  },
  {
   "cell_type": "code",
   "execution_count": null,
   "metadata": {
    "colab": {
     "base_uri": "https://localhost:8080/"
    },
    "executionInfo": {
     "elapsed": 30,
     "status": "ok",
     "timestamp": 1744670732910,
     "user": {
      "displayName": "Ignacio Cicoria",
      "userId": "11746815679159819108"
     },
     "user_tz": 180
    },
    "id": "Q4bQYiwVEc_A",
    "outputId": "eaee8868-7183-4893-99ed-f71b5b30ba4a"
   },
   "outputs": [],
   "source": [
    "mediana_global = X_train[X_train['distancia'] > 0]['distancia'].median()\n",
    "X_train.loc[X_train['distancia'] == 0, 'distancia'] = mediana_global\n",
    "\n",
    "#Verifico que no hayan quedado distancias 0\n",
    "print((X_train['distancia'] == 0).sum())"
   ]
  },
  {
   "cell_type": "markdown",
   "metadata": {
    "id": "SsEjkT_1IQQj"
   },
   "source": [
    "Analizamos adicionalmente la distribución de la variable target para poder entender visualmente su comportamiento."
   ]
  },
  {
   "cell_type": "code",
   "execution_count": null,
   "metadata": {
    "colab": {
     "base_uri": "https://localhost:8080/",
     "height": 408
    },
    "executionInfo": {
     "elapsed": 393,
     "status": "ok",
     "timestamp": 1744670733306,
     "user": {
      "displayName": "Ignacio Cicoria",
      "userId": "11746815679159819108"
     },
     "user_tz": 180
    },
    "id": "_546hMQlFF8H",
    "outputId": "ed3e7727-b899-4b78-b75b-0eb523a8b02c"
   },
   "outputs": [],
   "source": [
    "plt.figure(figsize=(10, 4))\n",
    "sns.boxplot(x=y_train, color='skyblue')\n",
    "plt.title('Distribución real de fare_amount (con outliers)')\n",
    "plt.xlabel('Fare Amount ($)')\n",
    "plt.show()"
   ]
  },
  {
   "cell_type": "markdown",
   "metadata": {
    "id": "ZH6P-9Iy3PYF"
   },
   "source": [
    "A partir del gráfico vemos presencia de valores extremos (outliers) que distorsionan la escala y hacer dificil visualizar el resto de los datos. Procederemos a transformarlos en escala logarítmica."
   ]
  },
  {
   "cell_type": "code",
   "execution_count": null,
   "metadata": {
    "colab": {
     "base_uri": "https://localhost:8080/",
     "height": 488
    },
    "executionInfo": {
     "elapsed": 1220,
     "status": "ok",
     "timestamp": 1744670734531,
     "user": {
      "displayName": "Ignacio Cicoria",
      "userId": "11746815679159819108"
     },
     "user_tz": 180
    },
    "id": "bhhoHsn7isi2",
    "outputId": "d466d539-f720-4043-bcc4-7836354c38a9"
   },
   "outputs": [],
   "source": [
    "y_log = np.log1p(df['fare_amount'][df['fare_amount']> 0])\n",
    "\n",
    "plt.figure(figsize=(8, 5))\n",
    "sns.histplot(y_log, bins=50, kde=True)\n",
    "plt.title('Distribución de log(fare_amount)')\n",
    "plt.xlabel('Log(Fare Amount + 1)')\n",
    "plt.show()"
   ]
  },
  {
   "cell_type": "markdown",
   "metadata": {
    "id": "NdUYp_RM1_3r"
   },
   "source": [
    "La variable target presenta una distribución sesgada a la derecha (asimetría positiva). Muchos valores bajos y pocos valores muy altos."
   ]
  },
  {
   "cell_type": "code",
   "execution_count": null,
   "metadata": {
    "colab": {
     "base_uri": "https://localhost:8080/",
     "height": 313
    },
    "executionInfo": {
     "elapsed": 16,
     "status": "ok",
     "timestamp": 1744670734553,
     "user": {
      "displayName": "Ignacio Cicoria",
      "userId": "11746815679159819108"
     },
     "user_tz": 180
    },
    "id": "fxahDKVq4ZzW",
    "outputId": "37e0dbcf-9999-42fe-bfe5-ad89022fc88a"
   },
   "outputs": [],
   "source": [
    "X_train.head()"
   ]
  },
  {
   "cell_type": "code",
   "execution_count": null,
   "metadata": {
    "colab": {
     "base_uri": "https://localhost:8080/"
    },
    "executionInfo": {
     "elapsed": 24,
     "status": "ok",
     "timestamp": 1744670734578,
     "user": {
      "displayName": "Ignacio Cicoria",
      "userId": "11746815679159819108"
     },
     "user_tz": 180
    },
    "id": "86ct0C7mNp9v",
    "outputId": "f5deaf9e-23fc-4d87-b5a3-2b4d499ec2b9"
   },
   "outputs": [],
   "source": [
    "X_train.info()"
   ]
  },
  {
   "cell_type": "code",
   "execution_count": null,
   "metadata": {
    "colab": {
     "base_uri": "https://localhost:8080/"
    },
    "executionInfo": {
     "elapsed": 7,
     "status": "ok",
     "timestamp": 1744670734587,
     "user": {
      "displayName": "Ignacio Cicoria",
      "userId": "11746815679159819108"
     },
     "user_tz": 180
    },
    "id": "6oLrEwyXTrbZ",
    "outputId": "7d392a83-a5f6-405e-c466-a0adef8a9044"
   },
   "outputs": [],
   "source": [
    "X_test.info()"
   ]
  },
  {
   "cell_type": "markdown",
   "metadata": {
    "id": "ZEes1EFEfyYU"
   },
   "source": [
    "## Estandarizacion"
   ]
  },
  {
   "cell_type": "markdown",
   "metadata": {
    "id": "NUUtD0NJDqk_"
   },
   "source": [
    "Para el escalado de los datos utilizamos dos métodos que aplicaremos posteriormente para los distintos modelos."
   ]
  },
  {
   "cell_type": "code",
   "execution_count": 137,
   "metadata": {
    "executionInfo": {
     "elapsed": 64,
     "status": "ok",
     "timestamp": 1744680800132,
     "user": {
      "displayName": "Ignacio Cicoria",
      "userId": "11746815679159819108"
     },
     "user_tz": 180
    },
    "id": "xxUVNVfbfxSb"
   },
   "outputs": [],
   "source": [
    "# Escalado dentro de preprocesador\n",
    "\n",
    "numericas = [\n",
    "    'pickup_longitude', 'pickup_latitude', 'distancia',\n",
    "    'hora_sin', 'hora_cos',\n",
    "    'mes_sin', 'mes_cos']\n",
    "otras = ['encomienda', 'auto/moto', 'es_finde', 'es_feriado']\n",
    "\n",
    "preprocesador = ColumnTransformer(transformers=[\n",
    "    ('num', StandardScaler(), numericas)\n",
    "], remainder='passthrough')  # Deja las columnas binarias sin tocar"
   ]
  },
  {
   "cell_type": "code",
   "execution_count": 138,
   "metadata": {
    "id": "c9wotMs43PYH"
   },
   "outputs": [],
   "source": [
    "# Creación de un nuevo X_train escalado\n",
    "\n",
    "scaler = StandardScaler()\n",
    "scaler.fit(X_train[numericas])\n",
    "\n",
    "X_train_scaled = X_train.copy()\n",
    "X_train_scaled[numericas] = scaler.transform(X_train[numericas])\n",
    "\n",
    "X_test_scaled = X_test.copy()\n",
    "X_test_scaled[numericas] = scaler.transform(X_test[numericas])"
   ]
  },
  {
   "cell_type": "markdown",
   "metadata": {
    "id": "ApjfOeCFa9ty"
   },
   "source": [
    "# Modelados"
   ]
  },
  {
   "cell_type": "markdown",
   "metadata": {
    "id": "-k_LNSk9fW1L"
   },
   "source": [
    "## Regresion Lineal"
   ]
  },
  {
   "cell_type": "markdown",
   "metadata": {
    "id": "8QxvN3H4GwtF"
   },
   "source": [
    "Creación del pipeline para el preprocesamiento y fitteo del modelo de regresión lineal."
   ]
  },
  {
   "cell_type": "code",
   "execution_count": null,
   "metadata": {
    "id": "blwHOkE5PwX0"
   },
   "outputs": [],
   "source": [
    "pipeline = Pipeline(steps=[\n",
    "    ('preprocesamiento', preprocesador),\n",
    "    ('modelo', LinearRegression())\n",
    "])\n",
    "\n",
    "# Fitteo\n",
    "pipeline.fit(X_train, y_train)"
   ]
  },
  {
   "cell_type": "markdown",
   "metadata": {
    "id": "x2rQPa1FHZb3"
   },
   "source": [
    "Predicciones."
   ]
  },
  {
   "cell_type": "code",
   "execution_count": null,
   "metadata": {
    "colab": {
     "base_uri": "https://localhost:8080/"
    },
    "executionInfo": {
     "elapsed": 482,
     "status": "ok",
     "timestamp": 1744681179111,
     "user": {
      "displayName": "Ignacio Cicoria",
      "userId": "11746815679159819108"
     },
     "user_tz": 180
    },
    "id": "XkMn-p5_jvgi",
    "outputId": "58791fa2-890f-4288-bfd6-d8b666ca6df2"
   },
   "outputs": [],
   "source": [
    "y_pred_train = pipeline.predict(X_train)\n",
    "print(y_pred_train.shape)\n",
    "y_pred_train = y_pred_train.flatten()\n",
    "y_pred_train[:10]"
   ]
  },
  {
   "cell_type": "code",
   "execution_count": null,
   "metadata": {
    "colab": {
     "base_uri": "https://localhost:8080/"
    },
    "executionInfo": {
     "elapsed": 242,
     "status": "ok",
     "timestamp": 1744681207020,
     "user": {
      "displayName": "Ignacio Cicoria",
      "userId": "11746815679159819108"
     },
     "user_tz": 180
    },
    "id": "a0oIlk-JjFtq",
    "outputId": "f9f169ea-e693-4477-9bdf-6e93651a72de"
   },
   "outputs": [],
   "source": [
    "y_pred_test = pipeline.predict(X_test)\n",
    "print(y_pred_test.shape)\n",
    "y_pred_test = y_pred_test.flatten()  \n",
    "y_pred_test[:10]\n"
   ]
  },
  {
   "cell_type": "markdown",
   "metadata": {
    "id": "1Svg5tvU3PYI"
   },
   "source": [
    "Analizamos los coeficientes obtenidos del modelo de regresión lineal y graficamos."
   ]
  },
  {
   "cell_type": "code",
   "execution_count": null,
   "metadata": {
    "colab": {
     "base_uri": "https://localhost:8080/",
     "height": 506
    },
    "executionInfo": {
     "elapsed": 249,
     "status": "ok",
     "timestamp": 1744670735948,
     "user": {
      "displayName": "Ignacio Cicoria",
      "userId": "11746815679159819108"
     },
     "user_tz": 180
    },
    "id": "Fgoqbh2Z3PYI",
    "outputId": "d0a61524-2ac9-4b7c-c974-1f8709e5fd36"
   },
   "outputs": [],
   "source": [
    "df_coeficientes = pd.DataFrame({\n",
    "    'predictor': X_train.columns,\n",
    "    'coef': pipeline.named_steps['modelo'].coef_.flatten()\n",
    "})\n",
    "\n",
    "fig, ax = plt.subplots(figsize=(7,5))\n",
    "ax.stem(df_coeficientes.predictor, df_coeficientes.coef, markerfmt=' ')\n",
    "plt.xticks(rotation=90, ha='right', size=10)\n",
    "ax.set_xlabel('feature')\n",
    "ax.set_ylabel('weights')\n",
    "ax.set_title('Parámetros del modelo')\n",
    "plt.tight_layout()\n",
    "plt.show()\n"
   ]
  },
  {
   "cell_type": "markdown",
   "metadata": {
    "id": "Zua6UVWR3PYJ"
   },
   "source": [
    "Del gráfico obtenido podemos ver la gran influencia de la variable \"distancia\" sobre el modelo."
   ]
  },
  {
   "cell_type": "markdown",
   "metadata": {
    "id": "yGGgPTOpl3D5"
   },
   "source": [
    "Error del modelo"
   ]
  },
  {
   "cell_type": "code",
   "execution_count": null,
   "metadata": {
    "colab": {
     "base_uri": "https://localhost:8080/"
    },
    "executionInfo": {
     "elapsed": 19,
     "status": "ok",
     "timestamp": 1744670735969,
     "user": {
      "displayName": "Ignacio Cicoria",
      "userId": "11746815679159819108"
     },
     "user_tz": 180
    },
    "id": "yGrxGQOpnZ8M",
    "outputId": "3dd476f6-8bb7-47e2-f886-6aebcf5ed15c"
   },
   "outputs": [],
   "source": [
    "def evaluar(y_true, y_pred, nombre):\n",
    "    mse = mean_squared_error(y_true, y_pred)\n",
    "    rmse = np.sqrt(mse)\n",
    "    r2 = r2_score(y_true, y_pred)\n",
    "\n",
    "    print(f\"Resultados para {nombre}:\")\n",
    "    print(f\"  MSE: {mse:.3f}\")\n",
    "    print(f\"  RMSE: {rmse:.3f}\")\n",
    "    print(f\"  R²: {r2:.3f}\\n\")\n",
    "    return mse, rmse, r2\n",
    "\n",
    "# Evaluación en entrenamiento\n",
    "mse_train, rmse_train, r2_train = evaluar(y_train, y_pred_train, 'Train')\n",
    "mse_test, rmse_test, r2_test = evaluar(y_test, y_pred_test, 'Test')\n"
   ]
  },
  {
   "cell_type": "markdown",
   "metadata": {
    "id": "jTM2G2383PYK"
   },
   "source": [
    "El modelo lineal entrenado alcanza un desempeño sólido, con un R² de 0.757 en entrenamiento y 0.769 en testeo, lo que indica que es capaz de explicar aproximadamente el 76% de la variabilidad de las tarifas.\n",
    "Además, la similitud entre los valores de RMSE en ambos conjuntos (4.67 en entrenamiento y 4.62 en test) sugiere que el modelo generaliza bien y no presenta signos de sobreajuste.\n",
    "En promedio, el error absoluto es de unos $4.6."
   ]
  },
  {
   "cell_type": "markdown",
   "metadata": {
    "id": "OlTqBODG3PYK"
   },
   "source": [
    "Complementamos el análisis observando el gráfico de los residuos."
   ]
  },
  {
   "cell_type": "code",
   "execution_count": null,
   "metadata": {
    "colab": {
     "base_uri": "https://localhost:8080/",
     "height": 1000
    },
    "executionInfo": {
     "elapsed": 1747,
     "status": "ok",
     "timestamp": 1744670737718,
     "user": {
      "displayName": "Ignacio Cicoria",
      "userId": "11746815679159819108"
     },
     "user_tz": 180
    },
    "id": "fADwEJ2t3PYK",
    "outputId": "f89e4745-4b33-41f5-f418-e6e09ac83bb3"
   },
   "outputs": [],
   "source": [
    "residuos_train = y_train - y_pred_train\n",
    "residuos_test = y_test - y_pred_test\n",
    "\n",
    "\n",
    "plt.figure(figsize=(10, 6))\n",
    "plt.scatter(y_pred_train, residuos_train, color='blue', alpha=0.5)\n",
    "plt.axhline(y=0, color='red', lw=2, label='Cero (sin error)')\n",
    "plt.title('Residuos (Entrenamiento)')\n",
    "plt.xlabel('Valores Predichos')\n",
    "plt.ylabel('Residuos')\n",
    "plt.legend()\n",
    "plt.grid(True)\n",
    "plt.show()\n",
    "\n",
    "\n",
    "plt.figure(figsize=(10, 6))\n",
    "plt.scatter(y_pred_test, residuos_test, color='green', alpha=0.5)\n",
    "plt.axhline(y=0, color='red', lw=2, label='Cero (sin error)')\n",
    "plt.title('Residuos (Prueba)')\n",
    "plt.xlabel('Valores Predichos')\n",
    "plt.ylabel('Residuos')\n",
    "plt.legend()\n",
    "plt.grid(True)\n",
    "plt.show()\n"
   ]
  },
  {
   "cell_type": "code",
   "execution_count": null,
   "metadata": {
    "colab": {
     "base_uri": "https://localhost:8080/",
     "height": 865
    },
    "executionInfo": {
     "elapsed": 450,
     "status": "ok",
     "timestamp": 1744670738171,
     "user": {
      "displayName": "Ignacio Cicoria",
      "userId": "11746815679159819108"
     },
     "user_tz": 180
    },
    "id": "EuCR8JMXr064",
    "outputId": "6854b5e3-e627-4ec1-97f0-a1113dfd8e08"
   },
   "outputs": [],
   "source": [
    "fig = plt.figure(figsize=(10,10))\n",
    "sns.histplot((y_test - y_pred_test.reshape(y_test.shape)), color=\"red\", kde=True, stat=\"density\", linewidth=0,bins=50)\n",
    "fig.suptitle('Análisis de Residuos', fontsize = 20)\n",
    "plt.show()"
   ]
  },
  {
   "cell_type": "markdown",
   "metadata": {
    "id": "OsbwkqoSITjB"
   },
   "source": [
    "Observamos a partir de los gráficos que la distribución de los errores es cercana a una distribución normal con media cero."
   ]
  },
  {
   "cell_type": "markdown",
   "metadata": {
    "id": "yxbx-xoN3PYL"
   },
   "source": [
    "Procederemos a investigar algunos de los errores más significativas en las predicciones."
   ]
  },
  {
   "cell_type": "code",
   "execution_count": null,
   "metadata": {
    "colab": {
     "base_uri": "https://localhost:8080/"
    },
    "executionInfo": {
     "elapsed": 34,
     "status": "ok",
     "timestamp": 1744670738212,
     "user": {
      "displayName": "Ignacio Cicoria",
      "userId": "11746815679159819108"
     },
     "user_tz": 180
    },
    "id": "22meouBr7Uid",
    "outputId": "17d75783-8459-45fc-e264-28faa4a1d3bd"
   },
   "outputs": [],
   "source": [
    "residuos = y_test - y_pred_test.reshape(y_test.shape)\n",
    "\n",
    "df_residuos = pd.DataFrame({\n",
    "    'real': y_test,\n",
    "    'predicho': y_pred_test.reshape(y_test.shape),\n",
    "    'residuo': residuos\n",
    "})\n",
    "\n",
    "df_completo = pd.concat([X_test.reset_index(drop=True), df_residuos.reset_index(drop=True)], axis=1)\n",
    "df_outliers = df_completo.sort_values(by='residuo').head(5)\n",
    "\n",
    "print(\"Top 5 outliers (errores más negativos):\")\n",
    "print(df_outliers)"
   ]
  },
  {
   "cell_type": "markdown",
   "metadata": {
    "id": "UbEo3jiZ3PYL"
   },
   "source": [
    "## Regularización"
   ]
  },
  {
   "cell_type": "markdown",
   "metadata": {
    "id": "Y6gvG25I9r8U"
   },
   "source": [
    "### Ridge\n"
   ]
  },
  {
   "cell_type": "markdown",
   "metadata": {
    "id": "seKQ8oveI3DD"
   },
   "source": [
    "Creación del pipeline para el preprocesamiento y fitteo del modelo de Ridge."
   ]
  },
  {
   "cell_type": "code",
   "execution_count": null,
   "metadata": {
    "colab": {
     "base_uri": "https://localhost:8080/",
     "height": 370
    },
    "executionInfo": {
     "elapsed": 3258,
     "status": "ok",
     "timestamp": 1744670741472,
     "user": {
      "displayName": "Ignacio Cicoria",
      "userId": "11746815679159819108"
     },
     "user_tz": 180
    },
    "id": "9JiiXsn73PYL",
    "outputId": "5d13606c-59fc-43e8-9f4f-29637a725f59"
   },
   "outputs": [],
   "source": [
    "pipe = Pipeline([\n",
    "    ('preprocessing', preprocesador),\n",
    "    ('modelo', RidgeCV(alphas=np.logspace(-6, 5, 200), store_cv_results=True))\n",
    "])\n",
    "\n",
    "pipe.fit(X_train, y_train)"
   ]
  },
  {
   "cell_type": "code",
   "execution_count": null,
   "metadata": {
    "colab": {
     "base_uri": "https://localhost:8080/"
    },
    "executionInfo": {
     "elapsed": 38,
     "status": "ok",
     "timestamp": 1744670741518,
     "user": {
      "displayName": "Ignacio Cicoria",
      "userId": "11746815679159819108"
     },
     "user_tz": 180
    },
    "id": "NfiyzW7f3PYM",
    "outputId": "37ca8a31-045b-4285-8614-b16a905aa959"
   },
   "outputs": [],
   "source": [
    "pipe.named_steps['modelo'].alpha_"
   ]
  },
  {
   "cell_type": "markdown",
   "metadata": {
    "id": "wmCleB-mJP1C"
   },
   "source": [
    "Evolución de los parámetros en función de alpha."
   ]
  },
  {
   "cell_type": "code",
   "execution_count": 149,
   "metadata": {
    "id": "7VSzB0Xu3PYM"
   },
   "outputs": [],
   "source": [
    "alphas = pipe.named_steps['modelo'].alphas\n",
    "coefs = []\n",
    "\n",
    "for alpha in alphas:\n",
    "    modelo_aux = make_pipeline(StandardScaler(), Ridge(alpha=alpha))\n",
    "    modelo_aux.fit(X_train, y_train)\n",
    "    coefs.append(modelo_aux.named_steps['ridge'].coef_.flatten())"
   ]
  },
  {
   "cell_type": "code",
   "execution_count": null,
   "metadata": {
    "colab": {
     "base_uri": "https://localhost:8080/"
    },
    "executionInfo": {
     "elapsed": 356,
     "status": "ok",
     "timestamp": 1744670769463,
     "user": {
      "displayName": "Ignacio Cicoria",
      "userId": "11746815679159819108"
     },
     "user_tz": 180
    },
    "id": "Ffccob6Z3PYM",
    "outputId": "5aecf153-d1ba-4292-a255-2dfdef328e0d"
   },
   "outputs": [],
   "source": [
    "fig, ax = plt.subplots(figsize=(15, 5))\n",
    "ax.plot(alphas, coefs, label=X_train.columns)\n",
    "ax.set_xscale('log')\n",
    "ax.set_xlabel('log(alpha)')\n",
    "ax.set_ylabel('Parámetros')\n",
    "ax.set_title('Parámetros del modelo en función de la regularización');\n",
    "plt.axis('tight')\n",
    "plt.legend()\n",
    "plt.show()"
   ]
  },
  {
   "cell_type": "markdown",
   "metadata": {
    "id": "L5U6IE5OKTop"
   },
   "source": [
    "Evolución del error en función de la regularización."
   ]
  },
  {
   "cell_type": "code",
   "execution_count": null,
   "metadata": {
    "colab": {
     "base_uri": "https://localhost:8080/",
     "height": 377
    },
    "executionInfo": {
     "elapsed": 225,
     "status": "ok",
     "timestamp": 1744670769689,
     "user": {
      "displayName": "Ignacio Cicoria",
      "userId": "11746815679159819108"
     },
     "user_tz": 180
    },
    "id": "fMfu4KcC3PYM",
    "outputId": "9aca4177-b929-41a7-9803-1f44b07b0f9c"
   },
   "outputs": [],
   "source": [
    "# Acceder al modelo RidgeCV dentro del pipeline\n",
    "mod = pipe.named_steps['modelo']\n",
    "\n",
    "# Calcular el MSE medio para cada valor de alpha\n",
    "mse_cv = mod.cv_values_.mean(axis=0)\n",
    "\n",
    "# Calcular el RMSE a partir del MSE\n",
    "rmse_cv = np.sqrt(mse_cv)\n",
    "\n",
    "# Identificar el valor óptimo de alpha y el RMSE mínimo\n",
    "min_rmse = np.min(rmse_cv)\n",
    "optimo = mod.alphas[np.argmin(rmse_cv)]\n",
    "\n",
    "# Visualizar la evolución del RMSE en función de alpha\n",
    "\n",
    "fig, ax = plt.subplots(figsize=(15, 5))\n",
    "ax.plot(mod.alphas, rmse_cv)\n",
    "ax.set_xscale('log')\n",
    "ax.set_ylim([2, None])\n",
    "ax.set_title('Evolución del error en función de la regularización')\n",
    "ax.set_xlabel('alpha')\n",
    "ax.set_ylabel('RMSE')\n",
    "plt.show()\n"
   ]
  },
  {
   "cell_type": "code",
   "execution_count": null,
   "metadata": {
    "colab": {
     "base_uri": "https://localhost:8080/"
    },
    "executionInfo": {
     "elapsed": 29,
     "status": "ok",
     "timestamp": 1744670769722,
     "user": {
      "displayName": "Ignacio Cicoria",
      "userId": "11746815679159819108"
     },
     "user_tz": 180
    },
    "id": "AbAHSiEF3PYN",
    "outputId": "56b86b12-09a5-416b-bd10-96d26c31a349"
   },
   "outputs": [],
   "source": [
    "print(f\"Mejor valor de alpha encontrado: {mod.alpha_}\")"
   ]
  },
  {
   "cell_type": "markdown",
   "metadata": {
    "id": "-Z1bWaQGKeBl"
   },
   "source": [
    "Coeficientes del modelo"
   ]
  },
  {
   "cell_type": "code",
   "execution_count": null,
   "metadata": {
    "colab": {
     "base_uri": "https://localhost:8080/",
     "height": 390
    },
    "executionInfo": {
     "elapsed": 207,
     "status": "ok",
     "timestamp": 1744670769931,
     "user": {
      "displayName": "Ignacio Cicoria",
      "userId": "11746815679159819108"
     },
     "user_tz": 180
    },
    "id": "vids98wU3PYN",
    "outputId": "6916d243-88ed-4a09-b959-4c742ce07ac0"
   },
   "outputs": [],
   "source": [
    "df_coeficientes = pd.DataFrame({'predictor': X_train.columns,'coef': mod.coef_.flatten()})\n",
    "\n",
    "fig, ax = plt.subplots(figsize=(15,5))\n",
    "ax.stem(df_coeficientes.predictor, df_coeficientes.coef, markerfmt=' ')\n",
    "plt.xticks(rotation=90, ha='right', size=10)\n",
    "ax.set_xlabel('feature')\n",
    "ax.set_ylabel('weights')\n",
    "ax.set_title('Parámetros del modelo');"
   ]
  },
  {
   "cell_type": "markdown",
   "metadata": {},
   "source": [
    "Predicciones"
   ]
  },
  {
   "cell_type": "code",
   "execution_count": null,
   "metadata": {
    "colab": {
     "base_uri": "https://localhost:8080/"
    },
    "executionInfo": {
     "elapsed": 15,
     "status": "ok",
     "timestamp": 1744670769961,
     "user": {
      "displayName": "Ignacio Cicoria",
      "userId": "11746815679159819108"
     },
     "user_tz": 180
    },
    "id": "yH1ljEXz3PYN",
    "outputId": "379860f6-9478-4dc4-cc0e-67a71a102171"
   },
   "outputs": [],
   "source": [
    "# Predicciones test\n",
    "y_pred = pipe.predict(X_test)\n",
    "y_pred.shape, y_test.shape"
   ]
  },
  {
   "cell_type": "markdown",
   "metadata": {
    "id": "ZcVKVtv-LE4_"
   },
   "source": [
    "Error del modelo"
   ]
  },
  {
   "cell_type": "code",
   "execution_count": null,
   "metadata": {
    "colab": {
     "base_uri": "https://localhost:8080/"
    },
    "executionInfo": {
     "elapsed": 81,
     "status": "ok",
     "timestamp": 1744682360794,
     "user": {
      "displayName": "Ignacio Cicoria",
      "userId": "11746815679159819108"
     },
     "user_tz": 180
    },
    "id": "F3wimjfs3PYN",
    "outputId": "92651d3d-694b-4cae-90ea-df0b7f6d3408"
   },
   "outputs": [],
   "source": [
    "rmse_ridge_train = np.sqrt(mean_squared_error(y_train, y_pred_train))\n",
    "print(f\"El error (rmse) de train es: {rmse_ridge_train}\")\n",
    "rmse_ridge = np.sqrt(mean_squared_error(y_test, y_pred))\n",
    "print(f\"El error (rmse) de test es: {rmse_ridge}\")\n"
   ]
  },
  {
   "cell_type": "code",
   "execution_count": null,
   "metadata": {
    "colab": {
     "base_uri": "https://localhost:8080/"
    },
    "executionInfo": {
     "elapsed": 231,
     "status": "ok",
     "timestamp": 1744678276819,
     "user": {
      "displayName": "Ignacio Cicoria",
      "userId": "11746815679159819108"
     },
     "user_tz": 180
    },
    "id": "cmH1qWeC3PYO",
    "outputId": "a664bc60-f6a0-4f17-ee82-62c86dc972b7"
   },
   "outputs": [],
   "source": [
    "# R^2 en el conjunto de entrenamiento\n",
    "r2_train_ridge = pipe.score(X_train, y_train)\n",
    "print(f\"R^2 en train: {r2_train:.4f}\")\n",
    "\n",
    "# R^2 en el conjunto de prueba\n",
    "r2_test_ridge = pipe.score(X_test, y_test)\n",
    "\n",
    "print(f\"R^2 en test: {r2_test:.4f}\")"
   ]
  },
  {
   "cell_type": "markdown",
   "metadata": {
    "id": "JB7wnQqb3PYO"
   },
   "source": [
    "### Lasso"
   ]
  },
  {
   "cell_type": "markdown",
   "metadata": {},
   "source": [
    "Creación del modelo de Lasso y fitteo"
   ]
  },
  {
   "cell_type": "code",
   "execution_count": 157,
   "metadata": {
    "executionInfo": {
     "elapsed": 5138,
     "status": "ok",
     "timestamp": 1744676372811,
     "user": {
      "displayName": "Ignacio Cicoria",
      "userId": "11746815679159819108"
     },
     "user_tz": 180
    },
    "id": "etxVoBZ93PYO"
   },
   "outputs": [],
   "source": [
    "modelo_lasso = LassoCV(\n",
    "            alphas          = np.logspace(-6, 2, 200),\n",
    "            cv              = 10\n",
    "         )\n",
    "_ = modelo_lasso.fit(X = X_train_scaled, y = y_train.values)"
   ]
  },
  {
   "cell_type": "code",
   "execution_count": null,
   "metadata": {
    "colab": {
     "base_uri": "https://localhost:8080/",
     "height": 325
    },
    "executionInfo": {
     "elapsed": 54091,
     "status": "ok",
     "timestamp": 1744676921870,
     "user": {
      "displayName": "Ignacio Cicoria",
      "userId": "11746815679159819108"
     },
     "user_tz": 180
    },
    "id": "XO2s4qU6ZFS1",
    "outputId": "4427fa52-fd67-41fe-f70c-f99317457de2"
   },
   "outputs": [],
   "source": [
    "alphas = modelo_lasso.alphas_\n",
    "coefs = []\n",
    "\n",
    "for alpha in alphas:\n",
    "    modelo_aux = make_pipeline(StandardScaler(), Lasso(alpha=alpha))\n",
    "    modelo_aux.fit(X_train, y_train)\n",
    "    coefs.append(modelo_aux.named_steps['lasso'].coef_.flatten())\n",
    "fig, ax = plt.subplots(figsize=(15,5))\n",
    "ax.plot(alphas, coefs, label=X_train.columns)\n",
    "ax.set_xscale('log')\n",
    "ax.set_ylim([-0.5,None])\n",
    "ax.set_xlabel('alpha')\n",
    "ax.set_ylabel('parámetros')\n",
    "ax.legend()\n",
    "ax.set_title('Coeficientes del modelo en función de la regularización')\n",
    "plt.show()\n"
   ]
  },
  {
   "cell_type": "markdown",
   "metadata": {
    "id": "9yAC4qbjYA78"
   },
   "source": [
    "Puede ver se como, a medida que aumenta el valor de alpha, la regularización es mayor y más predictores quedan excluidos (su coeficiente es 0)."
   ]
  },
  {
   "cell_type": "code",
   "execution_count": null,
   "metadata": {
    "colab": {
     "base_uri": "https://localhost:8080/",
     "height": 341
    },
    "executionInfo": {
     "elapsed": 12512,
     "status": "ok",
     "timestamp": 1744670796354,
     "user": {
      "displayName": "Ignacio Cicoria",
      "userId": "11746815679159819108"
     },
     "user_tz": 180
    },
    "id": "ANO9dQlB3PYO",
    "outputId": "9839d542-fc10-4c95-8319-d8eb5a28aea1"
   },
   "outputs": [],
   "source": [
    "# Número de features incluidas (parámetros !=0) en función de alpha\n",
    "alphas = modelo_lasso.alphas_\n",
    "n_predictores = []\n",
    "\n",
    "for alpha in alphas:\n",
    "    modelo_temp = Lasso(alpha=alpha, fit_intercept=False)\n",
    "    modelo_temp.fit(X_train_scaled, y_train)\n",
    "    coef_no_cero = np.sum(modelo_temp.coef_.flatten() != 0)\n",
    "    n_predictores.append(coef_no_cero)\n",
    "\n",
    "fig, ax = plt.subplots(figsize=(15, 5))\n",
    "ax.plot(alphas, n_predictores)\n",
    "ax.set_xscale('log')\n",
    "ax.set_ylim([-0.5,None])\n",
    "ax.set_xlabel('alpha')\n",
    "ax.set_ylabel('nº parámetros')\n",
    "ax.set_title('Features incluidas en función de la regularización')"
   ]
  },
  {
   "cell_type": "markdown",
   "metadata": {},
   "source": [
    "Evolución del error de validación cruzada en función de alpha"
   ]
  },
  {
   "cell_type": "code",
   "execution_count": null,
   "metadata": {
    "colab": {
     "base_uri": "https://localhost:8080/",
     "height": 420
    },
    "executionInfo": {
     "elapsed": 595,
     "status": "ok",
     "timestamp": 1744670796952,
     "user": {
      "displayName": "Ignacio Cicoria",
      "userId": "11746815679159819108"
     },
     "user_tz": 180
    },
    "id": "XFL1b0kG3PYP",
    "outputId": "0220b385-f5e9-41be-e16e-0923fbd2fe2c"
   },
   "outputs": [],
   "source": [
    "mse_cv = modelo_lasso.mse_path_.mean(axis=1)\n",
    "mse_sd = modelo_lasso.mse_path_.std(axis=1)\n",
    "\n",
    "# Se aplica la raíz cuadrada para pasar de mse a rmse\n",
    "rmse_cv = np.sqrt(mse_cv)\n",
    "rmse_sd = np.sqrt(mse_sd)\n",
    "\n",
    "# Se identifica el óptimo y el óptimo + 1std\n",
    "min_rmse     = np.min(rmse_cv)\n",
    "sd_min_rmse  = rmse_sd[np.argmin(rmse_cv)]\n",
    "min_rsme_1sd = np.max(rmse_cv[rmse_cv <= min_rmse + sd_min_rmse])\n",
    "optimo       = modelo_lasso.alphas_[np.argmin(rmse_cv)]\n",
    "optimo_1sd   = modelo_lasso.alphas_[rmse_cv == min_rsme_1sd]\n",
    "\n",
    "# Gráfico del error +- 1 desviación estándar\n",
    "fig, ax = plt.subplots(figsize=(7, 3.84))\n",
    "ax.plot(modelo_lasso.alphas_, rmse_cv)\n",
    "ax.fill_between(\n",
    "    modelo_lasso.alphas_,\n",
    "    rmse_cv + rmse_sd,\n",
    "    rmse_cv - rmse_sd,\n",
    "    alpha=0.2\n",
    ")\n",
    "\n",
    "ax.axvline(\n",
    "    x         = optimo,\n",
    "    c         = \"gray\",\n",
    "    linestyle = '--',\n",
    "    label     = 'óptimo'\n",
    ")\n",
    "\n",
    "ax.axvline(\n",
    "    x         = optimo_1sd,\n",
    "    c         = \"blue\",\n",
    "    linestyle = '--',\n",
    "    label     = 'óptimo_1sd'\n",
    ")\n",
    "\n",
    "ax.set_xscale('log')\n",
    "ax.set_ylim([0,None])\n",
    "ax.set_title('Evolución del error CV en función de la regularización')\n",
    "ax.set_xlabel('alpha')\n",
    "ax.set_ylabel('RMSE')\n",
    "plt.legend()"
   ]
  },
  {
   "cell_type": "code",
   "execution_count": null,
   "metadata": {
    "colab": {
     "base_uri": "https://localhost:8080/"
    },
    "executionInfo": {
     "elapsed": 42,
     "status": "ok",
     "timestamp": 1744670796955,
     "user": {
      "displayName": "Ignacio Cicoria",
      "userId": "11746815679159819108"
     },
     "user_tz": 180
    },
    "id": "lM40AROR3PYP",
    "outputId": "b6417b81-3312-4712-c115-ece6ed0efff9"
   },
   "outputs": [],
   "source": [
    "print(f\"Mejor valor de alpha encontrado: {modelo_lasso.alpha_}\")"
   ]
  },
  {
   "cell_type": "code",
   "execution_count": null,
   "metadata": {
    "colab": {
     "base_uri": "https://localhost:8080/"
    },
    "executionInfo": {
     "elapsed": 33,
     "status": "ok",
     "timestamp": 1744670796978,
     "user": {
      "displayName": "Ignacio Cicoria",
      "userId": "11746815679159819108"
     },
     "user_tz": 180
    },
    "id": "K2gVYd4COobU",
    "outputId": "ff26d33b-b193-4a6a-c5c6-4453b14ac421"
   },
   "outputs": [],
   "source": [
    "# Mejor valor alpha encontrado + 1sd\n",
    "\n",
    "min_rmse     = np.min(rmse_cv)\n",
    "sd_min_rmse  = rmse_sd[np.argmin(rmse_cv)]\n",
    "min_rsme_1sd = np.max(rmse_cv[rmse_cv <= min_rmse + sd_min_rmse])\n",
    "optimo       = modelo_lasso.alphas_[np.argmin(rmse_cv)]\n",
    "optimo_1sd   = modelo_lasso.alphas_[rmse_cv == min_rsme_1sd]\n",
    "\n",
    "print(f\"Mejor valor de alpha encontrado + 1 desviación estándar: {optimo_1sd}\")"
   ]
  },
  {
   "cell_type": "code",
   "execution_count": null,
   "metadata": {
    "colab": {
     "base_uri": "https://localhost:8080/",
     "height": 80
    },
    "executionInfo": {
     "elapsed": 18,
     "status": "ok",
     "timestamp": 1744670796997,
     "user": {
      "displayName": "Ignacio Cicoria",
      "userId": "11746815679159819108"
     },
     "user_tz": 180
    },
    "id": "rw7SyogoO0Fi",
    "outputId": "d03e049e-eb37-4d24-c345-1f016e8b32b5"
   },
   "outputs": [],
   "source": [
    "# Mejor modelo alpha óptimo + 1sd\n",
    "\n",
    "modelo_lasso = Lasso(alpha=optimo_1sd[0])\n",
    "modelo_lasso.fit(X = X_train_scaled, y = y_train.values)"
   ]
  },
  {
   "cell_type": "code",
   "execution_count": null,
   "metadata": {
    "colab": {
     "base_uri": "https://localhost:8080/",
     "height": 80
    },
    "executionInfo": {
     "elapsed": 1461,
     "status": "ok",
     "timestamp": 1744678004061,
     "user": {
      "displayName": "Ignacio Cicoria",
      "userId": "11746815679159819108"
     },
     "user_tz": 180
    },
    "id": "L9NUE0krUHrO",
    "outputId": "fe0045ee-0f63-4030-9f50-2545cdbf924b"
   },
   "outputs": [],
   "source": [
    "# Reentreno con alpha = 0.03\n",
    "\n",
    "modelo_lasso = Lasso(alpha=0.03)\n",
    "modelo_lasso.fit(X = X_train_scaled, y = y_train.values)"
   ]
  },
  {
   "cell_type": "markdown",
   "metadata": {},
   "source": [
    "Coeficientes del modelo"
   ]
  },
  {
   "cell_type": "code",
   "execution_count": null,
   "metadata": {
    "colab": {
     "base_uri": "https://localhost:8080/",
     "height": 300
    },
    "executionInfo": {
     "elapsed": 57,
     "status": "ok",
     "timestamp": 1744678004116,
     "user": {
      "displayName": "Ignacio Cicoria",
      "userId": "11746815679159819108"
     },
     "user_tz": 180
    },
    "id": "eYb4hMd83PYP",
    "outputId": "aad92ddd-010a-44b9-f2df-1658e1e7b7b5"
   },
   "outputs": [],
   "source": [
    "df_coeficientes = pd.DataFrame(\n",
    "                        {'predictor': X_train.columns,\n",
    "                         'coef': modelo_lasso.coef_.flatten()}\n",
    "                  )\n",
    "\n",
    "df_coeficientes[df_coeficientes.coef != 0]"
   ]
  },
  {
   "cell_type": "code",
   "execution_count": null,
   "metadata": {
    "colab": {
     "base_uri": "https://localhost:8080/",
     "height": 439
    },
    "executionInfo": {
     "elapsed": 423,
     "status": "ok",
     "timestamp": 1744678006367,
     "user": {
      "displayName": "Ignacio Cicoria",
      "userId": "11746815679159819108"
     },
     "user_tz": 180
    },
    "id": "sAnoMBAh3PYP",
    "outputId": "11b366c2-85a8-416c-cdd0-9f1433ca45ba"
   },
   "outputs": [],
   "source": [
    "fig, ax = plt.subplots(figsize=(11, 3.84))\n",
    "ax.stem(df_coeficientes.predictor, df_coeficientes.coef, markerfmt=' ')\n",
    "plt.xticks(rotation=90, ha='right', size=10)\n",
    "ax.set_xlabel('features')\n",
    "ax.set_ylabel('parámetros')\n",
    "ax.set_title('Parámetros del modelo');"
   ]
  },
  {
   "cell_type": "markdown",
   "metadata": {},
   "source": [
    "Predicciones"
   ]
  },
  {
   "cell_type": "code",
   "execution_count": 167,
   "metadata": {
    "colab": {
     "base_uri": "https://localhost:8080/"
    },
    "executionInfo": {
     "elapsed": 24,
     "status": "ok",
     "timestamp": 1744678010110,
     "user": {
      "displayName": "Ignacio Cicoria",
      "userId": "11746815679159819108"
     },
     "user_tz": 180
    },
    "id": "XLKIl_QU3PYP",
    "outputId": "42deca10-702b-40e1-dc03-07c607585b77"
   },
   "outputs": [],
   "source": [
    "# Predicciones para train y test\n",
    "predicciones_lasso_train = modelo_lasso.predict(X_train_scaled)\n",
    "predicciones_lasso_test = modelo_lasso.predict(X_test_scaled)"
   ]
  },
  {
   "cell_type": "markdown",
   "metadata": {},
   "source": [
    "Error del modelo"
   ]
  },
  {
   "cell_type": "code",
   "execution_count": null,
   "metadata": {
    "colab": {
     "base_uri": "https://localhost:8080/"
    },
    "executionInfo": {
     "elapsed": 49,
     "status": "ok",
     "timestamp": 1744678487843,
     "user": {
      "displayName": "Ignacio Cicoria",
      "userId": "11746815679159819108"
     },
     "user_tz": 180
    },
    "id": "Q9Fm5DhR3PYQ",
    "outputId": "616641a9-f038-4d3d-8154-44c486b076c1"
   },
   "outputs": [],
   "source": [
    "rmse_lasso_train = np.sqrt(mean_squared_error(y_train, predicciones_lasso_train))\n",
    "rmse_lasso_test = np.sqrt(mean_squared_error(y_test, predicciones_lasso_test))\n",
    "print(f\"El error (rmse) de train es: {rmse_lasso_train:.3f}\")\n",
    "print(f\"El error (rmse) de test es: {rmse_lasso_test:.3f}\")"
   ]
  },
  {
   "cell_type": "code",
   "execution_count": null,
   "metadata": {},
   "outputs": [],
   "source": [
    "# R² para entrenamiento\n",
    "R2_train_lasso = metrics.r2_score(y_train, predicciones_lasso_train)\n",
    "# R² para test\n",
    "R2_test_lasso = metrics.r2_score(y_test, predicciones_lasso_test)\n",
    "\n",
    "print(f\"R² (train): {R2_train_lasso:.3f}\")\n",
    "print(f\"R² (test): {R2_test_lasso:.3f}\")"
   ]
  },
  {
   "cell_type": "markdown",
   "metadata": {
    "id": "e5mrgb8D3PYQ"
   },
   "source": [
    "### Elasticnet"
   ]
  },
  {
   "cell_type": "markdown",
   "metadata": {},
   "source": [
    "Creación y entrenamiento del modelo (con búsqueda por CV del valor óptimo alpha)"
   ]
  },
  {
   "cell_type": "code",
   "execution_count": 170,
   "metadata": {
    "colab": {
     "base_uri": "https://localhost:8080/"
    },
    "collapsed": true,
    "executionInfo": {
     "elapsed": 21565,
     "status": "ok",
     "timestamp": 1744670818939,
     "user": {
      "displayName": "Ignacio Cicoria",
      "userId": "11746815679159819108"
     },
     "user_tz": 180
    },
    "id": "bcKtLiOd3PYQ",
    "outputId": "75703a3f-a4e6-4584-f295-c02cec297273"
   },
   "outputs": [],
   "source": [
    "# Por defecto ElasticNetCV utiliza el mean squared error\n",
    "modelo_elastic = ElasticNetCV(\n",
    "            l1_ratio        = [0, 0.1, 0.5, 0.7, 0.9, 0.95, 0.99],\n",
    "            alphas          = np.logspace(-10, 3, 200),\n",
    "            cv              = 10\n",
    "         )\n",
    "_ = modelo_elastic.fit(X = X_train_scaled, y = y_train.values)"
   ]
  },
  {
   "cell_type": "markdown",
   "metadata": {},
   "source": [
    "Evolución del error en función de alpha y l1_ratio"
   ]
  },
  {
   "cell_type": "code",
   "execution_count": null,
   "metadata": {
    "colab": {
     "base_uri": "https://localhost:8080/"
    },
    "executionInfo": {
     "elapsed": 14,
     "status": "ok",
     "timestamp": 1744670818955,
     "user": {
      "displayName": "Ignacio Cicoria",
      "userId": "11746815679159819108"
     },
     "user_tz": 180
    },
    "id": "Z5JH66Kz3PYQ",
    "outputId": "48626280-f363-4998-f52f-807500a3747c"
   },
   "outputs": [],
   "source": [
    "# modelo.mse_path_ almacena el mse de cv para cada valor de alpha y l1_ratio.\n",
    "# Error medio de las 10 particiones por cada valor de alpha y l1_ratio\n",
    "mean_error_cv = modelo_elastic.mse_path_.mean(axis =2)\n",
    "\n",
    "# El resultado es un array de dimensiones (n_l1_ratio, n_alpha)\n",
    "# Se convierte en un dataframe\n",
    "df_resultados_cv = pd.DataFrame(\n",
    "                        data   = mean_error_cv.flatten(),\n",
    "                        index  = pd.MultiIndex.from_product(\n",
    "                                    iterables = [modelo_elastic.l1_ratio, modelo_elastic.alphas_],\n",
    "                                    names     = ['l1_ratio', 'modelo.alphas_']\n",
    "                                 ),\n",
    "                        columns = [\"mse_cv\"]\n",
    "                    )\n",
    "\n",
    "df_resultados_cv['rmse_cv'] = np.sqrt(df_resultados_cv['mse_cv'])\n",
    "df_resultados_cv = df_resultados_cv.reset_index().sort_values('mse_cv', ascending = True)\n",
    "df_resultados_cv"
   ]
  },
  {
   "cell_type": "markdown",
   "metadata": {},
   "source": [
    "Mejor valor encontrado para cada l1_ratio"
   ]
  },
  {
   "cell_type": "code",
   "execution_count": null,
   "metadata": {
    "colab": {
     "base_uri": "https://localhost:8080/",
     "height": 414
    },
    "executionInfo": {
     "elapsed": 290,
     "status": "ok",
     "timestamp": 1744670819250,
     "user": {
      "displayName": "Ignacio Cicoria",
      "userId": "11746815679159819108"
     },
     "user_tz": 180
    },
    "id": "WVZoJFLt3PYR",
    "outputId": "09cb2d12-759c-4b33-f5e1-d0c8614a74bd"
   },
   "outputs": [],
   "source": [
    "fig, ax = plt.subplots(figsize=(7, 3.84))\n",
    "df_resultados_cv.groupby('l1_ratio')['rmse_cv'].min().plot(ax = ax)\n",
    "ax.set_title('Evolución del error CV en función de la l1_ratio')\n",
    "ax.set_xlabel('l1_ratio')\n",
    "ax.set_ylabel('rmse_cv');"
   ]
  },
  {
   "cell_type": "markdown",
   "metadata": {},
   "source": [
    "Mejor valor alpha y l1_ratio_ encontrado\n"
   ]
  },
  {
   "cell_type": "code",
   "execution_count": null,
   "metadata": {
    "colab": {
     "base_uri": "https://localhost:8080/"
    },
    "executionInfo": {
     "elapsed": 22,
     "status": "ok",
     "timestamp": 1744670819281,
     "user": {
      "displayName": "Ignacio Cicoria",
      "userId": "11746815679159819108"
     },
     "user_tz": 180
    },
    "id": "ERRJi26d3PYR",
    "outputId": "9136f10f-396c-43c5-d41b-2a99b9bda256"
   },
   "outputs": [],
   "source": [
    "print(f\"Mejor valor de alpha encontrado: {modelo_elastic.alpha_}\")\n",
    "print(f\"Mejor valor de l1_ratio encontrado: {modelo_elastic.l1_ratio_}\")"
   ]
  },
  {
   "cell_type": "markdown",
   "metadata": {},
   "source": [
    "Coeficientes del modelo"
   ]
  },
  {
   "cell_type": "code",
   "execution_count": null,
   "metadata": {
    "colab": {
     "base_uri": "https://localhost:8080/",
     "height": 439
    },
    "executionInfo": {
     "elapsed": 70,
     "status": "ok",
     "timestamp": 1744670819353,
     "user": {
      "displayName": "Ignacio Cicoria",
      "userId": "11746815679159819108"
     },
     "user_tz": 180
    },
    "id": "gWjKaKT93PYR",
    "outputId": "802ee686-4ed9-4c6f-fdee-d783f5413237"
   },
   "outputs": [],
   "source": [
    "df_coeficientes = pd.DataFrame(\n",
    "                        {'predictor': X_train.columns,\n",
    "                         'coef': modelo_elastic.coef_.flatten()}\n",
    "                  )\n",
    "\n",
    "fig, ax = plt.subplots(figsize=(11, 3.84))\n",
    "ax.stem(df_coeficientes.predictor, df_coeficientes.coef, markerfmt=' ')\n",
    "plt.xticks(rotation=90, ha='right', size=10)\n",
    "ax.set_xlabel('variable')\n",
    "ax.set_ylabel('coeficientes')\n",
    "ax.set_title('Coeficientes del modelo');"
   ]
  },
  {
   "cell_type": "markdown",
   "metadata": {},
   "source": [
    "Predicciones"
   ]
  },
  {
   "cell_type": "code",
   "execution_count": 175,
   "metadata": {
    "id": "nSGfBNTL3PYS"
   },
   "outputs": [],
   "source": [
    "predicciones_train_elastic = modelo_elastic.predict(X=X_train_scaled)\n",
    "predicciones_test_elastic = modelo_elastic.predict(X=X_test_scaled)"
   ]
  },
  {
   "cell_type": "markdown",
   "metadata": {},
   "source": [
    "Error del modelo"
   ]
  },
  {
   "cell_type": "code",
   "execution_count": null,
   "metadata": {},
   "outputs": [],
   "source": [
    "rmse_train_elastic = np.sqrt(mean_squared_error(y_train, predicciones_train_elastic))\n",
    "rmse_test_elastic = np.sqrt(mean_squared_error(y_test, predicciones_test_elastic))\n",
    "print(f\"El error (rmse) de train es: {rmse_train_elastic}\")\n",
    "print(f\"El error (rmse) de test es: {rmse_test_elastic}\")"
   ]
  },
  {
   "cell_type": "code",
   "execution_count": null,
   "metadata": {},
   "outputs": [],
   "source": [
    "# R² para entrenamiento\n",
    "R2_train_elast = metrics.r2_score(y_train, predicciones_train_elastic)\n",
    "# R² para test\n",
    "R2_test_elast = metrics.r2_score(y_test, predicciones_test_elastic)\n",
    "\n",
    "print(f\"R² (train): {R2_train_elast:.3f}\")\n",
    "print(f\"R² (test): {R2_test_elast:.3f}\")"
   ]
  },
  {
   "cell_type": "markdown",
   "metadata": {
    "id": "ezfVUtx_EZ5d"
   },
   "source": [
    "## Gradiente descendiente"
   ]
  },
  {
   "cell_type": "markdown",
   "metadata": {
    "id": "MZt5-ro43PYS"
   },
   "source": [
    "Primero hacemos una subdivisión de los datos de entrenamiento en entrenamiento y validación."
   ]
  },
  {
   "cell_type": "code",
   "execution_count": 178,
   "metadata": {
    "id": "SpMlrbG43PYS"
   },
   "outputs": [],
   "source": [
    "X_train_final, X_val, y_train_final, y_val = train_test_split(X_train_scaled, y_train, test_size=0.2, random_state=42)"
   ]
  },
  {
   "cell_type": "code",
   "execution_count": 179,
   "metadata": {
    "id": "45Wlhfb93PYT"
   },
   "outputs": [],
   "source": [
    "def gradient_descent(X_train, y_train, X_val, y_val, lr=0.01, epochs=100):\n",
    "    \"\"\"\n",
    "    shapes:\n",
    "        X_train = nxm\n",
    "        y_train = nx1\n",
    "        X_val = pxm\n",
    "        y_test = px1\n",
    "        W = mx1\n",
    "    \"\"\"\n",
    "    n = X_train.shape[0]\n",
    "    m = X_train.shape[1]\n",
    "\n",
    "    o = X_val.shape[0]\n",
    "\n",
    "    # Poner columna de unos a las matrices X\n",
    "    X_train = np.hstack((np.ones((n, 1)), X_train))\n",
    "    X_val = np.hstack((np.ones((o, 1)), X_val))\n",
    "\n",
    "    # Inicializar pesos aleatorios\n",
    "    W = np.random.randn(m+1).reshape(m+1, 1)\n",
    "\n",
    "    train_errors = []  # Para almacenar el error de entrenamiento en cada época\n",
    "    test_errors = []   # Para almacenar el error de prueba en cada época\n",
    "\n",
    "    for _ in range(epochs):\n",
    "        # Calcular predicción y error de entrenamiento\n",
    "        prediction_train = np.matmul(X_train, W)\n",
    "        error_train = y_train - prediction_train\n",
    "        #print(error_train)\n",
    "        train_mse = np.mean(error_train ** 2)\n",
    "        train_errors.append(train_mse)\n",
    "\n",
    "        # Calcular predicción y error de prueba\n",
    "        prediction_test = np.matmul(X_val, W)\n",
    "        error_test = y_val - prediction_test\n",
    "        test_mse = np.mean(error_test ** 2)\n",
    "        test_errors.append(test_mse)\n",
    "\n",
    "        # Calcular el gradiente y actualizar pesos\n",
    "        grad_sum = np.sum(error_train * X_train, axis=0)\n",
    "        grad_mul = -2/n * grad_sum  # 1xm\n",
    "        gradient = np.transpose(grad_mul).reshape(-1, 1)  # mx1\n",
    "\n",
    "        W = W - (lr * gradient)\n",
    "\n",
    "    # Graficar errores de entrenamiento y prueba\n",
    "    # Definir una figura\n",
    "    plt.figure(figsize=(12, 6))\n",
    "    # Plotear errores de entrenamiento\n",
    "    plt.plot(train_errors, label='Error de entrenamiento')\n",
    "    # Plotear errores de prueba\n",
    "    plt.plot(test_errors, label='Error de validación')\n",
    "    # Poner labels en los ejes\n",
    "    plt.xlabel('Época')\n",
    "    plt.ylabel('Error cuadrático medio')\n",
    "    # Activar la leyenda\n",
    "    plt.legend()\n",
    "    # Poner titulo\n",
    "    plt.title('Error de entrenamiento y validación vs iteraciones (GD)')\n",
    "    # Terminar y mostrar gráfico\n",
    "    plt.show()\n",
    "\n",
    "    return W"
   ]
  },
  {
   "cell_type": "code",
   "execution_count": 180,
   "metadata": {},
   "outputs": [],
   "source": [
    "# Convertir a numpy arrays con la forma correcta\n",
    "X_train_final = X_train_final.values\n",
    "X_val = X_val.values\n",
    "y_train_final = y_train_final.values.reshape(-1, 1)\n",
    "y_val = y_val.values.reshape(-1, 1)"
   ]
  },
  {
   "cell_type": "code",
   "execution_count": null,
   "metadata": {
    "colab": {
     "base_uri": "https://localhost:8080/",
     "height": 451
    },
    "executionInfo": {
     "elapsed": 35624,
     "status": "ok",
     "timestamp": 1744670855113,
     "user": {
      "displayName": "Ignacio Cicoria",
      "userId": "11746815679159819108"
     },
     "user_tz": 180
    },
    "id": "JiVH354c3PYU",
    "outputId": "c0aefac8-bbd3-4d3c-fc60-fdc47de55eb7"
   },
   "outputs": [],
   "source": [
    "W_gd = gradient_descent(X_train_final, y_train_final, X_val, y_val, lr=0.1, epochs=200)\n",
    "X_test_gd = np.hstack((np.ones((X_test_scaled.shape[0], 1)), X_test_scaled.values))\n",
    "y_pred_gd = np.matmul(X_test_gd, W_gd)"
   ]
  },
  {
   "cell_type": "markdown",
   "metadata": {
    "id": "Ibfn19QW3PYV"
   },
   "source": [
    "El error disminuye rápido al principio.\n",
    "Luego se estabiliza, tanto en entrenamiento como en validación.\n",
    "No hay overfitting visible: ambas curvas son muy similares y descienden parejo.\n",
    "El algoritmo está convergiendo."
   ]
  },
  {
   "cell_type": "code",
   "execution_count": 182,
   "metadata": {},
   "outputs": [],
   "source": [
    "# Asegurarse de que y_test y y_pred_gd tengan la misma forma\n",
    "y_test_array = y_test.values.reshape(-1, 1)  # si y_test es un DataFrame o Serie"
   ]
  },
  {
   "cell_type": "markdown",
   "metadata": {},
   "source": [
    "Error del modelo"
   ]
  },
  {
   "cell_type": "code",
   "execution_count": null,
   "metadata": {},
   "outputs": [],
   "source": [
    "# Calcular RMSE\n",
    "rmse_test_gd = np.sqrt(mean_squared_error(y_test_array, y_pred_gd))\n",
    "\n",
    "# Calcular R²\n",
    "r2_test_gd = r2_score(y_test_array, y_pred_gd)\n",
    "\n",
    "# Mostrar resultados\n",
    "print(f\"Resultados del modelo con Gradiente Descendente (Batch GD):\")\n",
    "print(f\"RMSE test: {rmse_test_gd:.4f}\")\n",
    "print(f\"R² test: {r2_test_gd:.4f}\")\n"
   ]
  },
  {
   "cell_type": "code",
   "execution_count": 184,
   "metadata": {
    "id": "qNnLqe_d3PYW"
   },
   "outputs": [],
   "source": [
    "def mini_batch_gradient_descent(X_train, y_train, X_test, y_test, lr=0.01, epochs=100, batch_size=32):\n",
    "    n = X_train.shape[0]\n",
    "    m = X_train.shape[1]\n",
    "\n",
    "    # Convertir a numpy si vienen como Series\n",
    "    y_train = y_train.reshape(-1, 1)\n",
    "    y_test = y_test.to_numpy().reshape(-1, 1)\n",
    "\n",
    "    # Agregar columna de bias\n",
    "    X_train = np.hstack((np.ones((n, 1)), X_train))\n",
    "    X_test = np.hstack((np.ones((X_test.shape[0], 1)), X_test))\n",
    "\n",
    "    # Inicializar pesos\n",
    "    W = np.random.randn(m + 1).reshape(-1, 1)\n",
    "\n",
    "    # Listas para guardar los errores de cada época\n",
    "    train_errors = []\n",
    "    test_errors = []\n",
    "\n",
    "    for epoch in range(epochs):\n",
    "        # Mezclar los datos\n",
    "        permutation = np.random.permutation(n)\n",
    "        X_train = X_train[permutation]\n",
    "        y_train = y_train[permutation]\n",
    "\n",
    "        # Entrenamiento por mini-batches\n",
    "        for j in range(0, n, batch_size):\n",
    "            x_batch = X_train[j:j+batch_size, :]\n",
    "            y_batch = y_train[j:j+batch_size].reshape(-1, 1)\n",
    "\n",
    "            prediction = np.matmul(x_batch, W)\n",
    "            error = y_batch - prediction\n",
    "\n",
    "            gradient = -2 * np.matmul(x_batch.T, error) / batch_size\n",
    "            W = W - (lr * gradient)\n",
    "\n",
    "        # Calcular errores al final de cada época\n",
    "        train_pred = np.matmul(X_train, W)\n",
    "        train_error = y_train.reshape(-1, 1) - train_pred\n",
    "        train_mse = np.mean(train_error ** 2)\n",
    "        train_errors.append(train_mse)\n",
    "\n",
    "        test_pred = np.matmul(X_test, W)\n",
    "        test_error = y_test.reshape(-1, 1) - test_pred\n",
    "        test_mse = np.mean(test_error ** 2)\n",
    "        test_errors.append(test_mse)\n",
    "\n",
    "    # Graficar errores\n",
    "    plt.figure(figsize=(12, 6))\n",
    "    plt.plot(train_errors, label='Error de entrenamiento')\n",
    "    plt.plot(test_errors, label='Error de prueba')\n",
    "    plt.xlabel('Época')\n",
    "    plt.ylabel('Error cuadrático medio')\n",
    "    plt.title('Error de entrenamiento y prueba vs épocas (Mini-Batch GD)')\n",
    "    plt.legend()\n",
    "    plt.grid(True)\n",
    "    plt.show()\n",
    "\n",
    "    return W\n"
   ]
  },
  {
   "cell_type": "code",
   "execution_count": null,
   "metadata": {
    "colab": {
     "base_uri": "https://localhost:8080/",
     "height": 449
    },
    "executionInfo": {
     "elapsed": 128381,
     "status": "ok",
     "timestamp": 1744670983513,
     "user": {
      "displayName": "Ignacio Cicoria",
      "userId": "11746815679159819108"
     },
     "user_tz": 180
    },
    "id": "b59N7iDP3PYW",
    "outputId": "4c55f90a-7c4f-4799-c8f3-8d57b692edc4"
   },
   "outputs": [],
   "source": [
    "W_mb = mini_batch_gradient_descent(X_train_final, y_train_final, X_test_scaled, y_test, lr=0.01, epochs=200, batch_size=11)\n",
    "X_test_mb = np.hstack((np.ones((X_test_scaled.shape[0], 1)), X_test_scaled.values))\n",
    "y_pred_mb = np.matmul(X_test_mb, W_mb)"
   ]
  },
  {
   "cell_type": "markdown",
   "metadata": {},
   "source": [
    "Error del modelo"
   ]
  },
  {
   "cell_type": "code",
   "execution_count": null,
   "metadata": {},
   "outputs": [],
   "source": [
    "# Asegurarse de que y_test y y_pred_gd tengan la misma forma\n",
    "y_test_array = y_test.values.reshape(-1, 1)  # si y_test es un DataFrame o Serie\n",
    "\n",
    "# Calcular RMSE\n",
    "rmse_test_mb = np.sqrt(mean_squared_error(y_test_array, y_pred_mb))\n",
    "\n",
    "# Calcular R²\n",
    "r2_test_mb = r2_score(y_test_array, y_pred_gd)\n",
    "\n",
    "# Mostrar resultados\n",
    "print(f\"Resultados del modelo con Gradiente Descendente Mini Batch (Mini Batch GD):\")\n",
    "print(f\"RMSE test: {rmse_test_mb:.4f}\")\n",
    "print(f\"R² test: {r2_test_mb:.4f}\")"
   ]
  },
  {
   "cell_type": "markdown",
   "metadata": {
    "id": "UJYNz_Rqah50"
   },
   "source": [
    "# Comparacion de modelos"
   ]
  },
  {
   "cell_type": "code",
   "execution_count": null,
   "metadata": {
    "colab": {
     "base_uri": "https://localhost:8080/",
     "height": 237
    },
    "executionInfo": {
     "elapsed": 201,
     "status": "ok",
     "timestamp": 1744678032138,
     "user": {
      "displayName": "Ignacio Cicoria",
      "userId": "11746815679159819108"
     },
     "user_tz": 180
    },
    "id": "gXxUA-z0HB1K",
    "outputId": "7f977010-5680-43b2-8047-55ddb56f1b75"
   },
   "outputs": [],
   "source": [
    "colores = sns.color_palette(\"Set2\", n_colors=4)\n",
    "error_modelos = pd.DataFrame({\n",
    "    'modelo': ['LinearRegression', 'Ridge', 'Lasso', 'ElasticNet'],\n",
    "    'rmse': [rmse_test, rmse_ridge, rmse_lasso_test, rmse_test_elastic]\n",
    "})\n",
    "error_modelos = error_modelos.sort_values('rmse', ascending=False).reset_index(drop=True)\n",
    "\n",
    "#Gráfico\n",
    "fig, ax = plt.subplots(figsize=(10, 2.84))\n",
    "\n",
    "for i, (modelo, rmse) in enumerate(zip(error_modelos.modelo, error_modelos.rmse)):\n",
    "    color = colores[i]\n",
    "    ax.hlines(modelo, xmin=0, xmax=rmse, color=color, linewidth=2)\n",
    "    ax.plot(rmse, modelo, \"o\", color=color, markersize=8)\n",
    "    ax.text(rmse + 0.05, modelo, f\"{rmse:.2f}\", va='center', fontsize=10, color=color)\n",
    "\n",
    "ax.tick_params(axis='y', which='major', labelsize=12)\n",
    "ax.set_title('Comparación de error de test entre modelos')\n",
    "ax.set_xlabel('Test RMSE')\n",
    "plt.grid(axis='x', linestyle='--', alpha=0.5)\n",
    "plt.tight_layout()\n",
    "plt.show()\n"
   ]
  },
  {
   "cell_type": "code",
   "execution_count": null,
   "metadata": {
    "colab": {
     "base_uri": "https://localhost:8080/"
    },
    "executionInfo": {
     "elapsed": 534,
     "status": "ok",
     "timestamp": 1744670984351,
     "user": {
      "displayName": "Ignacio Cicoria",
      "userId": "11746815679159819108"
     },
     "user_tz": 180
    },
    "id": "Co2GI_7uIYRh",
    "outputId": "4111fe59-d35b-4034-f690-c430d48bc9e5"
   },
   "outputs": [],
   "source": [
    "df_coef = pd.DataFrame({\n",
    "    'variable': X_train.columns,\n",
    "    'Regresión Lineal': pipeline.named_steps['modelo'].coef_,\n",
    "    'RidgeCV': pipe.named_steps['modelo'].coef_,\n",
    "    'LassoCV': modelo_lasso.coef_,\n",
    "    'ElasticNetCV': modelo_elastic.coef_\n",
    "})\n",
    "\n",
    "df_coef.set_index('variable').plot(kind='bar', figsize=(14, 6), title=\"Coeficientes por modelo\")\n",
    "plt.xticks(rotation=90)\n",
    "plt.grid(axis='y', linestyle='--', alpha=0.7)  # Líneas horizontales punteadas\n",
    "plt.tight_layout()\n",
    "plt.show()\n"
   ]
  },
  {
   "cell_type": "markdown",
   "metadata": {
    "id": "Wf3A06_kVBH9"
   },
   "source": [
    "El modelo con regularización Lasso tiene un error ligeramente superior al modelo OLS pero emplea solo 1 predictor en lugar de 11"
   ]
  },
  {
   "cell_type": "code",
   "execution_count": null,
   "metadata": {
    "colab": {
     "base_uri": "https://localhost:8080/",
     "height": 237
    },
    "executionInfo": {
     "elapsed": 61,
     "status": "ok",
     "timestamp": 1744678807329,
     "user": {
      "displayName": "Ignacio Cicoria",
      "userId": "11746815679159819108"
     },
     "user_tz": 180
    },
    "id": "gb2e6Wjt6MXh",
    "outputId": "565e451c-7392-4362-c548-dfe59c019284"
   },
   "outputs": [],
   "source": [
    "# Creamos un diccionario con los resultados\n",
    "resultados_modelos = {\n",
    "    'Modelo': [\n",
    "        'Regresión Lineal',\n",
    "        'Ridge',\n",
    "        'Lasso',\n",
    "        'Elastic Net',\n",
    "        'Batch Gradient Descent',\n",
    "        'Mini-Batch Gradient Descent'\n",
    "    ],\n",
    "    'RMSE Train': [\n",
    "        rmse_train,  # reemplazar con tus valores\n",
    "        rmse_ridge_train,\n",
    "        rmse_lasso_train,\n",
    "        rmse_train_elastic,\n",
    "        'N/A',\n",
    "        'N/A'\n",
    "    ],\n",
    "    'RMSE Test': [\n",
    "        rmse_test,\n",
    "        rmse_ridge,\n",
    "        rmse_lasso_test,\n",
    "        rmse_test_elastic,\n",
    "        rmse_test_gd,\n",
    "        rmse_test_mb\n",
    "    ],\n",
    "    'R² Train': [\n",
    "        r2_train,\n",
    "        r2_train_ridge,\n",
    "        R2_test_lasso,\n",
    "        R2_train_elast,\n",
    "        'N/A',\n",
    "        'N/A'\n",
    "    ],\n",
    "    'R² Test': [\n",
    "        r2_test,\n",
    "        r2_test_ridge,\n",
    "        R2_test_lasso,\n",
    "        R2_test_elast,\n",
    "        r2_test_gd,\n",
    "        r2_test_mb\n",
    "    ]\n",
    "}\n",
    "\n",
    "# Convertimos el diccionario en DataFrame\n",
    "df_resultados = pd.DataFrame(resultados_modelos)\n",
    "\n",
    "# Mostramos la tabla ordenada\n",
    "df_resultados = df_resultados.sort_values(by='RMSE Test')\n",
    "display(df_resultados)"
   ]
  },
  {
   "cell_type": "markdown",
   "metadata": {
    "id": "8yR9QTf3qF63"
   },
   "source": [
    "# Conclusión"
   ]
  },
  {
   "cell_type": "markdown",
   "metadata": {
    "id": "bXiIckDQqPbs"
   },
   "source": [
    "En el desarrollo del trabajo implementamos, evaluamos y comparamos modelos de regresión lineal que permitan predecir el costo de los viajes de Uber. Los métodos utilizados fueron LinearRegression, gradiente descendiente (Batch Gradient Descent y Mini-Batch Gradient Descent) y regularización: Lasso, Ridge, Elastic Net.\n",
    "\n",
    "\n",
    "Los resultados obtenidos mostraron que los modelos poseen métricas muy similares, tanto de RMSE como R², y se pudo observar poca variación entre dichas métricas aplicadas a los datos de entrenamiento y de prueba.\n",
    "\n",
    "Del análisis de la selección de variables del modelo y de los coeficientes del mismo podemos concluir que hay una influencia fuerte de la variable explicativa 'distancia' en la variable target.\n",
    "\n",
    "Los métodos de regularización, de ajuste de hiperparámetros y de optimización no tienen un impacto significativo en comparación con los resultados del modelo de regresión lineal, lo que sugiere que un modelo lineal simple predice los datos de manera correcta. El hecho de que no se produzcan mejoras con los métodos de regularización puede deberse a que las features no estan altamente correlacionadas y que los datos que utiliza el modelo no poseen un ruido excesivo.\n",
    "\n",
    "Dado que las métricas de error apenas varían entre entrenamiento y prueba, se descarta la presencia de overfitting. Además, con valores de R² cercanos a 0.76 en todos los modelos, podemos concluir que el ajuste es bueno, aunque podría mejorarse incluyendo nuevas variables explicativas para capturar mayor variabilidad en el costo de los viajes.\n",
    "\n",
    "En futuras investigaciones, podría considerarse la inclusión de variables adicionales en el registro de datos, como lo son las condiciones climáticas, si el viaje fue cancelado, eventos especiales cercanos a las coordenadas de origen.\n"
   ]
  },
  {
   "cell_type": "markdown",
   "metadata": {
    "id": "3OTirktVzl0g"
   },
   "source": [
    "# Bibliografia"
   ]
  },
  {
   "cell_type": "markdown",
   "metadata": {
    "id": "umXAGlkLzv7Y"
   },
   "source": [
    "https://scikit-learn.org/stable/supervised_learning.html\n",
    "\n",
    "https://scikit-learn.org/stable/modules/linear_model.html\n",
    "\n",
    "https://cienciadedatos.net/documentos/py14-ridge-lasso-elastic-net-python.html\n",
    "\n",
    "Machine learning con Python y Scikit-learn por Joaquín Amat Rodrigo, disponible bajo una licencia Attribution-NonCommercial-ShareAlike 4.0 International (CC BY-NC-SA 4.0 DEED) en https://www.cienciadedatos.net/documentos/py06_machine_learning_python_scikitlearn.html\n",
    "\n",
    "Regularización Ridge, Lasso y Elastic Net con Python por Joaquín Amat Rodrigo, disponible con licencia CC BY-NC-SA 4.0 en https://www.cienciadedatos.net/documentos/py14-ridge-lasso-elastic-net-python.html\n",
    "\n"
   ]
  }
 ],
 "metadata": {
  "colab": {
   "provenance": [],
   "toc_visible": true
  },
  "kernelspec": {
   "display_name": "Python 3",
   "language": "python",
   "name": "python3"
  },
  "language_info": {
   "codemirror_mode": {
    "name": "ipython",
    "version": 3
   },
   "file_extension": ".py",
   "mimetype": "text/x-python",
   "name": "python",
   "nbconvert_exporter": "python",
   "pygments_lexer": "ipython3",
   "version": "3.12.10"
  },
  "orig_nbformat": 4
 },
 "nbformat": 4,
 "nbformat_minor": 0
}
